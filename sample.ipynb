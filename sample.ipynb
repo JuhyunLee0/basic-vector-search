{
 "cells": [
  {
   "cell_type": "markdown",
   "metadata": {},
   "source": [
    "installing required packages"
   ]
  },
  {
   "cell_type": "code",
   "execution_count": null,
   "metadata": {},
   "outputs": [],
   "source": [
    "! pip install requests"
   ]
  },
  {
   "cell_type": "code",
   "execution_count": 1,
   "metadata": {},
   "outputs": [],
   "source": [
    "import requests\n",
    "import json"
   ]
  },
  {
   "cell_type": "markdown",
   "metadata": {},
   "source": [
    "generating embedding from Azure OpenAI Rest API"
   ]
  },
  {
   "cell_type": "code",
   "execution_count": 2,
   "metadata": {},
   "outputs": [
    {
     "ename": "ConnectionError",
     "evalue": "HTTPSConnectionPool(host='your_azure_openai_url.openai.azure.com', port=443): Max retries exceeded with url: /openai/deployments/YOUR_EMBEDDING_DEPLOYMENT_NAME/embeddings?api-version=2024-02-01 (Caused by NameResolutionError(\"<urllib3.connection.HTTPSConnection object at 0x0000011AF0D89990>: Failed to resolve 'your_azure_openai_url.openai.azure.com' ([Errno 11001] getaddrinfo failed)\"))",
     "output_type": "error",
     "traceback": [
      "\u001b[1;31m---------------------------------------------------------------------------\u001b[0m",
      "\u001b[1;31mgaierror\u001b[0m                                  Traceback (most recent call last)",
      "File \u001b[1;32mc:\\Users\\juhyunlee\\AppData\\Local\\Programs\\Python\\Python311\\Lib\\site-packages\\urllib3\\connection.py:203\u001b[0m, in \u001b[0;36mHTTPConnection._new_conn\u001b[1;34m(self)\u001b[0m\n\u001b[0;32m    202\u001b[0m \u001b[38;5;28;01mtry\u001b[39;00m:\n\u001b[1;32m--> 203\u001b[0m     sock \u001b[38;5;241m=\u001b[39m \u001b[43mconnection\u001b[49m\u001b[38;5;241;43m.\u001b[39;49m\u001b[43mcreate_connection\u001b[49m\u001b[43m(\u001b[49m\n\u001b[0;32m    204\u001b[0m \u001b[43m        \u001b[49m\u001b[43m(\u001b[49m\u001b[38;5;28;43mself\u001b[39;49m\u001b[38;5;241;43m.\u001b[39;49m\u001b[43m_dns_host\u001b[49m\u001b[43m,\u001b[49m\u001b[43m \u001b[49m\u001b[38;5;28;43mself\u001b[39;49m\u001b[38;5;241;43m.\u001b[39;49m\u001b[43mport\u001b[49m\u001b[43m)\u001b[49m\u001b[43m,\u001b[49m\n\u001b[0;32m    205\u001b[0m \u001b[43m        \u001b[49m\u001b[38;5;28;43mself\u001b[39;49m\u001b[38;5;241;43m.\u001b[39;49m\u001b[43mtimeout\u001b[49m\u001b[43m,\u001b[49m\n\u001b[0;32m    206\u001b[0m \u001b[43m        \u001b[49m\u001b[43msource_address\u001b[49m\u001b[38;5;241;43m=\u001b[39;49m\u001b[38;5;28;43mself\u001b[39;49m\u001b[38;5;241;43m.\u001b[39;49m\u001b[43msource_address\u001b[49m\u001b[43m,\u001b[49m\n\u001b[0;32m    207\u001b[0m \u001b[43m        \u001b[49m\u001b[43msocket_options\u001b[49m\u001b[38;5;241;43m=\u001b[39;49m\u001b[38;5;28;43mself\u001b[39;49m\u001b[38;5;241;43m.\u001b[39;49m\u001b[43msocket_options\u001b[49m\u001b[43m,\u001b[49m\n\u001b[0;32m    208\u001b[0m \u001b[43m    \u001b[49m\u001b[43m)\u001b[49m\n\u001b[0;32m    209\u001b[0m \u001b[38;5;28;01mexcept\u001b[39;00m socket\u001b[38;5;241m.\u001b[39mgaierror \u001b[38;5;28;01mas\u001b[39;00m e:\n",
      "File \u001b[1;32mc:\\Users\\juhyunlee\\AppData\\Local\\Programs\\Python\\Python311\\Lib\\site-packages\\urllib3\\util\\connection.py:60\u001b[0m, in \u001b[0;36mcreate_connection\u001b[1;34m(address, timeout, source_address, socket_options)\u001b[0m\n\u001b[0;32m     58\u001b[0m     \u001b[38;5;28;01mraise\u001b[39;00m LocationParseError(\u001b[38;5;124mf\u001b[39m\u001b[38;5;124m\"\u001b[39m\u001b[38;5;124m'\u001b[39m\u001b[38;5;132;01m{\u001b[39;00mhost\u001b[38;5;132;01m}\u001b[39;00m\u001b[38;5;124m'\u001b[39m\u001b[38;5;124m, label empty or too long\u001b[39m\u001b[38;5;124m\"\u001b[39m) \u001b[38;5;28;01mfrom\u001b[39;00m \u001b[38;5;28;01mNone\u001b[39;00m\n\u001b[1;32m---> 60\u001b[0m \u001b[38;5;28;01mfor\u001b[39;00m res \u001b[38;5;129;01min\u001b[39;00m \u001b[43msocket\u001b[49m\u001b[38;5;241;43m.\u001b[39;49m\u001b[43mgetaddrinfo\u001b[49m\u001b[43m(\u001b[49m\u001b[43mhost\u001b[49m\u001b[43m,\u001b[49m\u001b[43m \u001b[49m\u001b[43mport\u001b[49m\u001b[43m,\u001b[49m\u001b[43m \u001b[49m\u001b[43mfamily\u001b[49m\u001b[43m,\u001b[49m\u001b[43m \u001b[49m\u001b[43msocket\u001b[49m\u001b[38;5;241;43m.\u001b[39;49m\u001b[43mSOCK_STREAM\u001b[49m\u001b[43m)\u001b[49m:\n\u001b[0;32m     61\u001b[0m     af, socktype, proto, canonname, sa \u001b[38;5;241m=\u001b[39m res\n",
      "File \u001b[1;32mc:\\Users\\juhyunlee\\AppData\\Local\\Programs\\Python\\Python311\\Lib\\socket.py:962\u001b[0m, in \u001b[0;36mgetaddrinfo\u001b[1;34m(host, port, family, type, proto, flags)\u001b[0m\n\u001b[0;32m    961\u001b[0m addrlist \u001b[38;5;241m=\u001b[39m []\n\u001b[1;32m--> 962\u001b[0m \u001b[38;5;28;01mfor\u001b[39;00m res \u001b[38;5;129;01min\u001b[39;00m \u001b[43m_socket\u001b[49m\u001b[38;5;241;43m.\u001b[39;49m\u001b[43mgetaddrinfo\u001b[49m\u001b[43m(\u001b[49m\u001b[43mhost\u001b[49m\u001b[43m,\u001b[49m\u001b[43m \u001b[49m\u001b[43mport\u001b[49m\u001b[43m,\u001b[49m\u001b[43m \u001b[49m\u001b[43mfamily\u001b[49m\u001b[43m,\u001b[49m\u001b[43m \u001b[49m\u001b[38;5;28;43mtype\u001b[39;49m\u001b[43m,\u001b[49m\u001b[43m \u001b[49m\u001b[43mproto\u001b[49m\u001b[43m,\u001b[49m\u001b[43m \u001b[49m\u001b[43mflags\u001b[49m\u001b[43m)\u001b[49m:\n\u001b[0;32m    963\u001b[0m     af, socktype, proto, canonname, sa \u001b[38;5;241m=\u001b[39m res\n",
      "\u001b[1;31mgaierror\u001b[0m: [Errno 11001] getaddrinfo failed",
      "\nThe above exception was the direct cause of the following exception:\n",
      "\u001b[1;31mNameResolutionError\u001b[0m                       Traceback (most recent call last)",
      "File \u001b[1;32mc:\\Users\\juhyunlee\\AppData\\Local\\Programs\\Python\\Python311\\Lib\\site-packages\\urllib3\\connectionpool.py:790\u001b[0m, in \u001b[0;36mHTTPConnectionPool.urlopen\u001b[1;34m(self, method, url, body, headers, retries, redirect, assert_same_host, timeout, pool_timeout, release_conn, chunked, body_pos, preload_content, decode_content, **response_kw)\u001b[0m\n\u001b[0;32m    789\u001b[0m \u001b[38;5;66;03m# Make the request on the HTTPConnection object\u001b[39;00m\n\u001b[1;32m--> 790\u001b[0m response \u001b[38;5;241m=\u001b[39m \u001b[38;5;28;43mself\u001b[39;49m\u001b[38;5;241;43m.\u001b[39;49m\u001b[43m_make_request\u001b[49m\u001b[43m(\u001b[49m\n\u001b[0;32m    791\u001b[0m \u001b[43m    \u001b[49m\u001b[43mconn\u001b[49m\u001b[43m,\u001b[49m\n\u001b[0;32m    792\u001b[0m \u001b[43m    \u001b[49m\u001b[43mmethod\u001b[49m\u001b[43m,\u001b[49m\n\u001b[0;32m    793\u001b[0m \u001b[43m    \u001b[49m\u001b[43murl\u001b[49m\u001b[43m,\u001b[49m\n\u001b[0;32m    794\u001b[0m \u001b[43m    \u001b[49m\u001b[43mtimeout\u001b[49m\u001b[38;5;241;43m=\u001b[39;49m\u001b[43mtimeout_obj\u001b[49m\u001b[43m,\u001b[49m\n\u001b[0;32m    795\u001b[0m \u001b[43m    \u001b[49m\u001b[43mbody\u001b[49m\u001b[38;5;241;43m=\u001b[39;49m\u001b[43mbody\u001b[49m\u001b[43m,\u001b[49m\n\u001b[0;32m    796\u001b[0m \u001b[43m    \u001b[49m\u001b[43mheaders\u001b[49m\u001b[38;5;241;43m=\u001b[39;49m\u001b[43mheaders\u001b[49m\u001b[43m,\u001b[49m\n\u001b[0;32m    797\u001b[0m \u001b[43m    \u001b[49m\u001b[43mchunked\u001b[49m\u001b[38;5;241;43m=\u001b[39;49m\u001b[43mchunked\u001b[49m\u001b[43m,\u001b[49m\n\u001b[0;32m    798\u001b[0m \u001b[43m    \u001b[49m\u001b[43mretries\u001b[49m\u001b[38;5;241;43m=\u001b[39;49m\u001b[43mretries\u001b[49m\u001b[43m,\u001b[49m\n\u001b[0;32m    799\u001b[0m \u001b[43m    \u001b[49m\u001b[43mresponse_conn\u001b[49m\u001b[38;5;241;43m=\u001b[39;49m\u001b[43mresponse_conn\u001b[49m\u001b[43m,\u001b[49m\n\u001b[0;32m    800\u001b[0m \u001b[43m    \u001b[49m\u001b[43mpreload_content\u001b[49m\u001b[38;5;241;43m=\u001b[39;49m\u001b[43mpreload_content\u001b[49m\u001b[43m,\u001b[49m\n\u001b[0;32m    801\u001b[0m \u001b[43m    \u001b[49m\u001b[43mdecode_content\u001b[49m\u001b[38;5;241;43m=\u001b[39;49m\u001b[43mdecode_content\u001b[49m\u001b[43m,\u001b[49m\n\u001b[0;32m    802\u001b[0m \u001b[43m    \u001b[49m\u001b[38;5;241;43m*\u001b[39;49m\u001b[38;5;241;43m*\u001b[39;49m\u001b[43mresponse_kw\u001b[49m\u001b[43m,\u001b[49m\n\u001b[0;32m    803\u001b[0m \u001b[43m\u001b[49m\u001b[43m)\u001b[49m\n\u001b[0;32m    805\u001b[0m \u001b[38;5;66;03m# Everything went great!\u001b[39;00m\n",
      "File \u001b[1;32mc:\\Users\\juhyunlee\\AppData\\Local\\Programs\\Python\\Python311\\Lib\\site-packages\\urllib3\\connectionpool.py:491\u001b[0m, in \u001b[0;36mHTTPConnectionPool._make_request\u001b[1;34m(self, conn, method, url, body, headers, retries, timeout, chunked, response_conn, preload_content, decode_content, enforce_content_length)\u001b[0m\n\u001b[0;32m    490\u001b[0m         new_e \u001b[38;5;241m=\u001b[39m _wrap_proxy_error(new_e, conn\u001b[38;5;241m.\u001b[39mproxy\u001b[38;5;241m.\u001b[39mscheme)\n\u001b[1;32m--> 491\u001b[0m     \u001b[38;5;28;01mraise\u001b[39;00m new_e\n\u001b[0;32m    493\u001b[0m \u001b[38;5;66;03m# conn.request() calls http.client.*.request, not the method in\u001b[39;00m\n\u001b[0;32m    494\u001b[0m \u001b[38;5;66;03m# urllib3.request. It also calls makefile (recv) on the socket.\u001b[39;00m\n",
      "File \u001b[1;32mc:\\Users\\juhyunlee\\AppData\\Local\\Programs\\Python\\Python311\\Lib\\site-packages\\urllib3\\connectionpool.py:467\u001b[0m, in \u001b[0;36mHTTPConnectionPool._make_request\u001b[1;34m(self, conn, method, url, body, headers, retries, timeout, chunked, response_conn, preload_content, decode_content, enforce_content_length)\u001b[0m\n\u001b[0;32m    466\u001b[0m \u001b[38;5;28;01mtry\u001b[39;00m:\n\u001b[1;32m--> 467\u001b[0m     \u001b[38;5;28;43mself\u001b[39;49m\u001b[38;5;241;43m.\u001b[39;49m\u001b[43m_validate_conn\u001b[49m\u001b[43m(\u001b[49m\u001b[43mconn\u001b[49m\u001b[43m)\u001b[49m\n\u001b[0;32m    468\u001b[0m \u001b[38;5;28;01mexcept\u001b[39;00m (SocketTimeout, BaseSSLError) \u001b[38;5;28;01mas\u001b[39;00m e:\n",
      "File \u001b[1;32mc:\\Users\\juhyunlee\\AppData\\Local\\Programs\\Python\\Python311\\Lib\\site-packages\\urllib3\\connectionpool.py:1096\u001b[0m, in \u001b[0;36mHTTPSConnectionPool._validate_conn\u001b[1;34m(self, conn)\u001b[0m\n\u001b[0;32m   1095\u001b[0m \u001b[38;5;28;01mif\u001b[39;00m conn\u001b[38;5;241m.\u001b[39mis_closed:\n\u001b[1;32m-> 1096\u001b[0m     \u001b[43mconn\u001b[49m\u001b[38;5;241;43m.\u001b[39;49m\u001b[43mconnect\u001b[49m\u001b[43m(\u001b[49m\u001b[43m)\u001b[49m\n\u001b[0;32m   1098\u001b[0m \u001b[38;5;28;01mif\u001b[39;00m \u001b[38;5;129;01mnot\u001b[39;00m conn\u001b[38;5;241m.\u001b[39mis_verified:\n",
      "File \u001b[1;32mc:\\Users\\juhyunlee\\AppData\\Local\\Programs\\Python\\Python311\\Lib\\site-packages\\urllib3\\connection.py:611\u001b[0m, in \u001b[0;36mHTTPSConnection.connect\u001b[1;34m(self)\u001b[0m\n\u001b[0;32m    610\u001b[0m sock: socket\u001b[38;5;241m.\u001b[39msocket \u001b[38;5;241m|\u001b[39m ssl\u001b[38;5;241m.\u001b[39mSSLSocket\n\u001b[1;32m--> 611\u001b[0m \u001b[38;5;28mself\u001b[39m\u001b[38;5;241m.\u001b[39msock \u001b[38;5;241m=\u001b[39m sock \u001b[38;5;241m=\u001b[39m \u001b[38;5;28;43mself\u001b[39;49m\u001b[38;5;241;43m.\u001b[39;49m\u001b[43m_new_conn\u001b[49m\u001b[43m(\u001b[49m\u001b[43m)\u001b[49m\n\u001b[0;32m    612\u001b[0m server_hostname: \u001b[38;5;28mstr\u001b[39m \u001b[38;5;241m=\u001b[39m \u001b[38;5;28mself\u001b[39m\u001b[38;5;241m.\u001b[39mhost\n",
      "File \u001b[1;32mc:\\Users\\juhyunlee\\AppData\\Local\\Programs\\Python\\Python311\\Lib\\site-packages\\urllib3\\connection.py:210\u001b[0m, in \u001b[0;36mHTTPConnection._new_conn\u001b[1;34m(self)\u001b[0m\n\u001b[0;32m    209\u001b[0m \u001b[38;5;28;01mexcept\u001b[39;00m socket\u001b[38;5;241m.\u001b[39mgaierror \u001b[38;5;28;01mas\u001b[39;00m e:\n\u001b[1;32m--> 210\u001b[0m     \u001b[38;5;28;01mraise\u001b[39;00m NameResolutionError(\u001b[38;5;28mself\u001b[39m\u001b[38;5;241m.\u001b[39mhost, \u001b[38;5;28mself\u001b[39m, e) \u001b[38;5;28;01mfrom\u001b[39;00m \u001b[38;5;21;01me\u001b[39;00m\n\u001b[0;32m    211\u001b[0m \u001b[38;5;28;01mexcept\u001b[39;00m SocketTimeout \u001b[38;5;28;01mas\u001b[39;00m e:\n",
      "\u001b[1;31mNameResolutionError\u001b[0m: <urllib3.connection.HTTPSConnection object at 0x0000011AF0D89990>: Failed to resolve 'your_azure_openai_url.openai.azure.com' ([Errno 11001] getaddrinfo failed)",
      "\nThe above exception was the direct cause of the following exception:\n",
      "\u001b[1;31mMaxRetryError\u001b[0m                             Traceback (most recent call last)",
      "File \u001b[1;32mc:\\Users\\juhyunlee\\AppData\\Local\\Programs\\Python\\Python311\\Lib\\site-packages\\requests\\adapters.py:486\u001b[0m, in \u001b[0;36mHTTPAdapter.send\u001b[1;34m(self, request, stream, timeout, verify, cert, proxies)\u001b[0m\n\u001b[0;32m    485\u001b[0m \u001b[38;5;28;01mtry\u001b[39;00m:\n\u001b[1;32m--> 486\u001b[0m     resp \u001b[38;5;241m=\u001b[39m \u001b[43mconn\u001b[49m\u001b[38;5;241;43m.\u001b[39;49m\u001b[43murlopen\u001b[49m\u001b[43m(\u001b[49m\n\u001b[0;32m    487\u001b[0m \u001b[43m        \u001b[49m\u001b[43mmethod\u001b[49m\u001b[38;5;241;43m=\u001b[39;49m\u001b[43mrequest\u001b[49m\u001b[38;5;241;43m.\u001b[39;49m\u001b[43mmethod\u001b[49m\u001b[43m,\u001b[49m\n\u001b[0;32m    488\u001b[0m \u001b[43m        \u001b[49m\u001b[43murl\u001b[49m\u001b[38;5;241;43m=\u001b[39;49m\u001b[43murl\u001b[49m\u001b[43m,\u001b[49m\n\u001b[0;32m    489\u001b[0m \u001b[43m        \u001b[49m\u001b[43mbody\u001b[49m\u001b[38;5;241;43m=\u001b[39;49m\u001b[43mrequest\u001b[49m\u001b[38;5;241;43m.\u001b[39;49m\u001b[43mbody\u001b[49m\u001b[43m,\u001b[49m\n\u001b[0;32m    490\u001b[0m \u001b[43m        \u001b[49m\u001b[43mheaders\u001b[49m\u001b[38;5;241;43m=\u001b[39;49m\u001b[43mrequest\u001b[49m\u001b[38;5;241;43m.\u001b[39;49m\u001b[43mheaders\u001b[49m\u001b[43m,\u001b[49m\n\u001b[0;32m    491\u001b[0m \u001b[43m        \u001b[49m\u001b[43mredirect\u001b[49m\u001b[38;5;241;43m=\u001b[39;49m\u001b[38;5;28;43;01mFalse\u001b[39;49;00m\u001b[43m,\u001b[49m\n\u001b[0;32m    492\u001b[0m \u001b[43m        \u001b[49m\u001b[43massert_same_host\u001b[49m\u001b[38;5;241;43m=\u001b[39;49m\u001b[38;5;28;43;01mFalse\u001b[39;49;00m\u001b[43m,\u001b[49m\n\u001b[0;32m    493\u001b[0m \u001b[43m        \u001b[49m\u001b[43mpreload_content\u001b[49m\u001b[38;5;241;43m=\u001b[39;49m\u001b[38;5;28;43;01mFalse\u001b[39;49;00m\u001b[43m,\u001b[49m\n\u001b[0;32m    494\u001b[0m \u001b[43m        \u001b[49m\u001b[43mdecode_content\u001b[49m\u001b[38;5;241;43m=\u001b[39;49m\u001b[38;5;28;43;01mFalse\u001b[39;49;00m\u001b[43m,\u001b[49m\n\u001b[0;32m    495\u001b[0m \u001b[43m        \u001b[49m\u001b[43mretries\u001b[49m\u001b[38;5;241;43m=\u001b[39;49m\u001b[38;5;28;43mself\u001b[39;49m\u001b[38;5;241;43m.\u001b[39;49m\u001b[43mmax_retries\u001b[49m\u001b[43m,\u001b[49m\n\u001b[0;32m    496\u001b[0m \u001b[43m        \u001b[49m\u001b[43mtimeout\u001b[49m\u001b[38;5;241;43m=\u001b[39;49m\u001b[43mtimeout\u001b[49m\u001b[43m,\u001b[49m\n\u001b[0;32m    497\u001b[0m \u001b[43m        \u001b[49m\u001b[43mchunked\u001b[49m\u001b[38;5;241;43m=\u001b[39;49m\u001b[43mchunked\u001b[49m\u001b[43m,\u001b[49m\n\u001b[0;32m    498\u001b[0m \u001b[43m    \u001b[49m\u001b[43m)\u001b[49m\n\u001b[0;32m    500\u001b[0m \u001b[38;5;28;01mexcept\u001b[39;00m (ProtocolError, \u001b[38;5;167;01mOSError\u001b[39;00m) \u001b[38;5;28;01mas\u001b[39;00m err:\n",
      "File \u001b[1;32mc:\\Users\\juhyunlee\\AppData\\Local\\Programs\\Python\\Python311\\Lib\\site-packages\\urllib3\\connectionpool.py:844\u001b[0m, in \u001b[0;36mHTTPConnectionPool.urlopen\u001b[1;34m(self, method, url, body, headers, retries, redirect, assert_same_host, timeout, pool_timeout, release_conn, chunked, body_pos, preload_content, decode_content, **response_kw)\u001b[0m\n\u001b[0;32m    842\u001b[0m     new_e \u001b[38;5;241m=\u001b[39m ProtocolError(\u001b[38;5;124m\"\u001b[39m\u001b[38;5;124mConnection aborted.\u001b[39m\u001b[38;5;124m\"\u001b[39m, new_e)\n\u001b[1;32m--> 844\u001b[0m retries \u001b[38;5;241m=\u001b[39m \u001b[43mretries\u001b[49m\u001b[38;5;241;43m.\u001b[39;49m\u001b[43mincrement\u001b[49m\u001b[43m(\u001b[49m\n\u001b[0;32m    845\u001b[0m \u001b[43m    \u001b[49m\u001b[43mmethod\u001b[49m\u001b[43m,\u001b[49m\u001b[43m \u001b[49m\u001b[43murl\u001b[49m\u001b[43m,\u001b[49m\u001b[43m \u001b[49m\u001b[43merror\u001b[49m\u001b[38;5;241;43m=\u001b[39;49m\u001b[43mnew_e\u001b[49m\u001b[43m,\u001b[49m\u001b[43m \u001b[49m\u001b[43m_pool\u001b[49m\u001b[38;5;241;43m=\u001b[39;49m\u001b[38;5;28;43mself\u001b[39;49m\u001b[43m,\u001b[49m\u001b[43m \u001b[49m\u001b[43m_stacktrace\u001b[49m\u001b[38;5;241;43m=\u001b[39;49m\u001b[43msys\u001b[49m\u001b[38;5;241;43m.\u001b[39;49m\u001b[43mexc_info\u001b[49m\u001b[43m(\u001b[49m\u001b[43m)\u001b[49m\u001b[43m[\u001b[49m\u001b[38;5;241;43m2\u001b[39;49m\u001b[43m]\u001b[49m\n\u001b[0;32m    846\u001b[0m \u001b[43m\u001b[49m\u001b[43m)\u001b[49m\n\u001b[0;32m    847\u001b[0m retries\u001b[38;5;241m.\u001b[39msleep()\n",
      "File \u001b[1;32mc:\\Users\\juhyunlee\\AppData\\Local\\Programs\\Python\\Python311\\Lib\\site-packages\\urllib3\\util\\retry.py:515\u001b[0m, in \u001b[0;36mRetry.increment\u001b[1;34m(self, method, url, response, error, _pool, _stacktrace)\u001b[0m\n\u001b[0;32m    514\u001b[0m     reason \u001b[38;5;241m=\u001b[39m error \u001b[38;5;129;01mor\u001b[39;00m ResponseError(cause)\n\u001b[1;32m--> 515\u001b[0m     \u001b[38;5;28;01mraise\u001b[39;00m MaxRetryError(_pool, url, reason) \u001b[38;5;28;01mfrom\u001b[39;00m \u001b[38;5;21;01mreason\u001b[39;00m  \u001b[38;5;66;03m# type: ignore[arg-type]\u001b[39;00m\n\u001b[0;32m    517\u001b[0m log\u001b[38;5;241m.\u001b[39mdebug(\u001b[38;5;124m\"\u001b[39m\u001b[38;5;124mIncremented Retry for (url=\u001b[39m\u001b[38;5;124m'\u001b[39m\u001b[38;5;132;01m%s\u001b[39;00m\u001b[38;5;124m'\u001b[39m\u001b[38;5;124m): \u001b[39m\u001b[38;5;132;01m%r\u001b[39;00m\u001b[38;5;124m\"\u001b[39m, url, new_retry)\n",
      "\u001b[1;31mMaxRetryError\u001b[0m: HTTPSConnectionPool(host='your_azure_openai_url.openai.azure.com', port=443): Max retries exceeded with url: /openai/deployments/YOUR_EMBEDDING_DEPLOYMENT_NAME/embeddings?api-version=2024-02-01 (Caused by NameResolutionError(\"<urllib3.connection.HTTPSConnection object at 0x0000011AF0D89990>: Failed to resolve 'your_azure_openai_url.openai.azure.com' ([Errno 11001] getaddrinfo failed)\"))",
      "\nDuring handling of the above exception, another exception occurred:\n",
      "\u001b[1;31mConnectionError\u001b[0m                           Traceback (most recent call last)",
      "Cell \u001b[1;32mIn[2], line 26\u001b[0m\n\u001b[0;32m     23\u001b[0m str_body \u001b[38;5;241m=\u001b[39m json\u001b[38;5;241m.\u001b[39mdumps(body)\n\u001b[0;32m     25\u001b[0m \u001b[38;5;66;03m# Make the POST request with the headers and JSON body\u001b[39;00m\n\u001b[1;32m---> 26\u001b[0m response \u001b[38;5;241m=\u001b[39m \u001b[43mrequests\u001b[49m\u001b[38;5;241;43m.\u001b[39;49m\u001b[43mpost\u001b[49m\u001b[43m(\u001b[49m\u001b[43murl\u001b[49m\u001b[43m,\u001b[49m\u001b[43m \u001b[49m\u001b[43mheaders\u001b[49m\u001b[38;5;241;43m=\u001b[39;49m\u001b[43mheaders\u001b[49m\u001b[43m,\u001b[49m\u001b[43m \u001b[49m\u001b[43mdata\u001b[49m\u001b[38;5;241;43m=\u001b[39;49m\u001b[43mstr_body\u001b[49m\u001b[43m)\u001b[49m\n\u001b[0;32m     28\u001b[0m embedding \u001b[38;5;241m=\u001b[39m \u001b[38;5;28;01mNone\u001b[39;00m\n\u001b[0;32m     29\u001b[0m \u001b[38;5;66;03m# Check the response\u001b[39;00m\n",
      "File \u001b[1;32mc:\\Users\\juhyunlee\\AppData\\Local\\Programs\\Python\\Python311\\Lib\\site-packages\\requests\\api.py:115\u001b[0m, in \u001b[0;36mpost\u001b[1;34m(url, data, json, **kwargs)\u001b[0m\n\u001b[0;32m    103\u001b[0m \u001b[38;5;28;01mdef\u001b[39;00m \u001b[38;5;21mpost\u001b[39m(url, data\u001b[38;5;241m=\u001b[39m\u001b[38;5;28;01mNone\u001b[39;00m, json\u001b[38;5;241m=\u001b[39m\u001b[38;5;28;01mNone\u001b[39;00m, \u001b[38;5;241m*\u001b[39m\u001b[38;5;241m*\u001b[39mkwargs):\n\u001b[0;32m    104\u001b[0m \u001b[38;5;250m    \u001b[39m\u001b[38;5;124mr\u001b[39m\u001b[38;5;124;03m\"\"\"Sends a POST request.\u001b[39;00m\n\u001b[0;32m    105\u001b[0m \n\u001b[0;32m    106\u001b[0m \u001b[38;5;124;03m    :param url: URL for the new :class:`Request` object.\u001b[39;00m\n\u001b[1;32m   (...)\u001b[0m\n\u001b[0;32m    112\u001b[0m \u001b[38;5;124;03m    :rtype: requests.Response\u001b[39;00m\n\u001b[0;32m    113\u001b[0m \u001b[38;5;124;03m    \"\"\"\u001b[39;00m\n\u001b[1;32m--> 115\u001b[0m     \u001b[38;5;28;01mreturn\u001b[39;00m \u001b[43mrequest\u001b[49m\u001b[43m(\u001b[49m\u001b[38;5;124;43m\"\u001b[39;49m\u001b[38;5;124;43mpost\u001b[39;49m\u001b[38;5;124;43m\"\u001b[39;49m\u001b[43m,\u001b[49m\u001b[43m \u001b[49m\u001b[43murl\u001b[49m\u001b[43m,\u001b[49m\u001b[43m \u001b[49m\u001b[43mdata\u001b[49m\u001b[38;5;241;43m=\u001b[39;49m\u001b[43mdata\u001b[49m\u001b[43m,\u001b[49m\u001b[43m \u001b[49m\u001b[43mjson\u001b[49m\u001b[38;5;241;43m=\u001b[39;49m\u001b[43mjson\u001b[49m\u001b[43m,\u001b[49m\u001b[43m \u001b[49m\u001b[38;5;241;43m*\u001b[39;49m\u001b[38;5;241;43m*\u001b[39;49m\u001b[43mkwargs\u001b[49m\u001b[43m)\u001b[49m\n",
      "File \u001b[1;32mc:\\Users\\juhyunlee\\AppData\\Local\\Programs\\Python\\Python311\\Lib\\site-packages\\requests\\api.py:59\u001b[0m, in \u001b[0;36mrequest\u001b[1;34m(method, url, **kwargs)\u001b[0m\n\u001b[0;32m     55\u001b[0m \u001b[38;5;66;03m# By using the 'with' statement we are sure the session is closed, thus we\u001b[39;00m\n\u001b[0;32m     56\u001b[0m \u001b[38;5;66;03m# avoid leaving sockets open which can trigger a ResourceWarning in some\u001b[39;00m\n\u001b[0;32m     57\u001b[0m \u001b[38;5;66;03m# cases, and look like a memory leak in others.\u001b[39;00m\n\u001b[0;32m     58\u001b[0m \u001b[38;5;28;01mwith\u001b[39;00m sessions\u001b[38;5;241m.\u001b[39mSession() \u001b[38;5;28;01mas\u001b[39;00m session:\n\u001b[1;32m---> 59\u001b[0m     \u001b[38;5;28;01mreturn\u001b[39;00m \u001b[43msession\u001b[49m\u001b[38;5;241;43m.\u001b[39;49m\u001b[43mrequest\u001b[49m\u001b[43m(\u001b[49m\u001b[43mmethod\u001b[49m\u001b[38;5;241;43m=\u001b[39;49m\u001b[43mmethod\u001b[49m\u001b[43m,\u001b[49m\u001b[43m \u001b[49m\u001b[43murl\u001b[49m\u001b[38;5;241;43m=\u001b[39;49m\u001b[43murl\u001b[49m\u001b[43m,\u001b[49m\u001b[43m \u001b[49m\u001b[38;5;241;43m*\u001b[39;49m\u001b[38;5;241;43m*\u001b[39;49m\u001b[43mkwargs\u001b[49m\u001b[43m)\u001b[49m\n",
      "File \u001b[1;32mc:\\Users\\juhyunlee\\AppData\\Local\\Programs\\Python\\Python311\\Lib\\site-packages\\requests\\sessions.py:589\u001b[0m, in \u001b[0;36mSession.request\u001b[1;34m(self, method, url, params, data, headers, cookies, files, auth, timeout, allow_redirects, proxies, hooks, stream, verify, cert, json)\u001b[0m\n\u001b[0;32m    584\u001b[0m send_kwargs \u001b[38;5;241m=\u001b[39m {\n\u001b[0;32m    585\u001b[0m     \u001b[38;5;124m\"\u001b[39m\u001b[38;5;124mtimeout\u001b[39m\u001b[38;5;124m\"\u001b[39m: timeout,\n\u001b[0;32m    586\u001b[0m     \u001b[38;5;124m\"\u001b[39m\u001b[38;5;124mallow_redirects\u001b[39m\u001b[38;5;124m\"\u001b[39m: allow_redirects,\n\u001b[0;32m    587\u001b[0m }\n\u001b[0;32m    588\u001b[0m send_kwargs\u001b[38;5;241m.\u001b[39mupdate(settings)\n\u001b[1;32m--> 589\u001b[0m resp \u001b[38;5;241m=\u001b[39m \u001b[38;5;28;43mself\u001b[39;49m\u001b[38;5;241;43m.\u001b[39;49m\u001b[43msend\u001b[49m\u001b[43m(\u001b[49m\u001b[43mprep\u001b[49m\u001b[43m,\u001b[49m\u001b[43m \u001b[49m\u001b[38;5;241;43m*\u001b[39;49m\u001b[38;5;241;43m*\u001b[39;49m\u001b[43msend_kwargs\u001b[49m\u001b[43m)\u001b[49m\n\u001b[0;32m    591\u001b[0m \u001b[38;5;28;01mreturn\u001b[39;00m resp\n",
      "File \u001b[1;32mc:\\Users\\juhyunlee\\AppData\\Local\\Programs\\Python\\Python311\\Lib\\site-packages\\requests\\sessions.py:703\u001b[0m, in \u001b[0;36mSession.send\u001b[1;34m(self, request, **kwargs)\u001b[0m\n\u001b[0;32m    700\u001b[0m start \u001b[38;5;241m=\u001b[39m preferred_clock()\n\u001b[0;32m    702\u001b[0m \u001b[38;5;66;03m# Send the request\u001b[39;00m\n\u001b[1;32m--> 703\u001b[0m r \u001b[38;5;241m=\u001b[39m \u001b[43madapter\u001b[49m\u001b[38;5;241;43m.\u001b[39;49m\u001b[43msend\u001b[49m\u001b[43m(\u001b[49m\u001b[43mrequest\u001b[49m\u001b[43m,\u001b[49m\u001b[43m \u001b[49m\u001b[38;5;241;43m*\u001b[39;49m\u001b[38;5;241;43m*\u001b[39;49m\u001b[43mkwargs\u001b[49m\u001b[43m)\u001b[49m\n\u001b[0;32m    705\u001b[0m \u001b[38;5;66;03m# Total elapsed time of the request (approximately)\u001b[39;00m\n\u001b[0;32m    706\u001b[0m elapsed \u001b[38;5;241m=\u001b[39m preferred_clock() \u001b[38;5;241m-\u001b[39m start\n",
      "File \u001b[1;32mc:\\Users\\juhyunlee\\AppData\\Local\\Programs\\Python\\Python311\\Lib\\site-packages\\requests\\adapters.py:519\u001b[0m, in \u001b[0;36mHTTPAdapter.send\u001b[1;34m(self, request, stream, timeout, verify, cert, proxies)\u001b[0m\n\u001b[0;32m    515\u001b[0m     \u001b[38;5;28;01mif\u001b[39;00m \u001b[38;5;28misinstance\u001b[39m(e\u001b[38;5;241m.\u001b[39mreason, _SSLError):\n\u001b[0;32m    516\u001b[0m         \u001b[38;5;66;03m# This branch is for urllib3 v1.22 and later.\u001b[39;00m\n\u001b[0;32m    517\u001b[0m         \u001b[38;5;28;01mraise\u001b[39;00m SSLError(e, request\u001b[38;5;241m=\u001b[39mrequest)\n\u001b[1;32m--> 519\u001b[0m     \u001b[38;5;28;01mraise\u001b[39;00m \u001b[38;5;167;01mConnectionError\u001b[39;00m(e, request\u001b[38;5;241m=\u001b[39mrequest)\n\u001b[0;32m    521\u001b[0m \u001b[38;5;28;01mexcept\u001b[39;00m ClosedPoolError \u001b[38;5;28;01mas\u001b[39;00m e:\n\u001b[0;32m    522\u001b[0m     \u001b[38;5;28;01mraise\u001b[39;00m \u001b[38;5;167;01mConnectionError\u001b[39;00m(e, request\u001b[38;5;241m=\u001b[39mrequest)\n",
      "\u001b[1;31mConnectionError\u001b[0m: HTTPSConnectionPool(host='your_azure_openai_url.openai.azure.com', port=443): Max retries exceeded with url: /openai/deployments/YOUR_EMBEDDING_DEPLOYMENT_NAME/embeddings?api-version=2024-02-01 (Caused by NameResolutionError(\"<urllib3.connection.HTTPSConnection object at 0x0000011AF0D89990>: Failed to resolve 'your_azure_openai_url.openai.azure.com' ([Errno 11001] getaddrinfo failed)\"))"
     ]
    }
   ],
   "source": [
    "# Replace these placeholders with your actual values\n",
    "aoai_api_key = \"YOUR_API_KEY\"\n",
    "aoai_api_base_url = \"https://YOUR_AZURE_OPENAI_URL.openai.azure.com/\"\n",
    "aoai_embedding_deployment_name = \"YOUR_EMBEDDING_DEPLOYMENT_NAME\"\n",
    "aoai_api_version = \"2024-02-01\"\n",
    "\n",
    "\n",
    "# Define the URL of the API endpoint\n",
    "url = f\"{aoai_api_base_url}openai/deployments/{aoai_embedding_deployment_name}/embeddings?api-version={aoai_api_version}\"\n",
    "\n",
    "# Define the headers, including the API key\n",
    "headers = {\n",
    "    'Content-Type': 'application/json',\n",
    "    'api-key': aoai_api_key\n",
    "}\n",
    "\n",
    "# Define the JSON body of the request\n",
    "body = {\n",
    "    \"input\": \"Who is walter white?\"\n",
    "}\n",
    "\n",
    "# Convert the payload to a JSON string\n",
    "str_body = json.dumps(body)\n",
    "\n",
    "# Make the POST request with the headers and JSON body\n",
    "response = requests.post(url, headers=headers, data=str_body)\n",
    "\n",
    "embedding = None\n",
    "# Check the response\n",
    "if response.status_code == 200:\n",
    "    print('Request successful!')\n",
    "    json_response = response.json()\n",
    "    embedding = json_response[\"data\"][0][\"embedding\"]\n",
    "else:\n",
    "    print('Request failed!')\n",
    "    print(response.text)\n",
    "\n",
    "\n",
    "print(embedding)"
   ]
  },
  {
   "cell_type": "markdown",
   "metadata": {},
   "source": [
    "Calling Azure AI Search Service to do vector search\n",
    "\n",
    "for this sample, we are calling a search index that has vectorized content of \"Breaking Bad - 01 Pilot\" screenplay"
   ]
  },
  {
   "cell_type": "code",
   "execution_count": 11,
   "metadata": {},
   "outputs": [
    {
     "name": "stdout",
     "output_type": "stream",
     "text": [
      "Request successful!\n",
      "{\n",
      "  \"@odata.context\": \"https://jhl-ai-search.search.windows.net/indexes('screenplay')/$metadata#docs(*)\",\n",
      "  \"@odata.count\": 5,\n",
      "  \"value\": [\n",
      "    {\n",
      "      \"@search.score\": 0.8519684,\n",
      "      \"chunk\": \"... I\\nhad all three of you in my heart.\\n\\nThe sirens are WAILING now, on top of us. WALTER WHITE, the \\nunderpants man, turns off the camcorder. He carefully sets \\nit on a bare patch of ground by his feet. Next to it he \\nsets his wallet, lying open where it can be seen.\\n\\nCLOSE ON the wallet -- a photo ID card is visible. Walt's \\nsmiling face is on it. It identifies him as a teacher at \\nJ.P. Wynne High School, Ontario Unified School District.\\n\\nWalt pulls the chrome pistol from the back of his \\nwaistband, aiming it across the tall weeds. It glints hard \\nin the sun.\\n\\nFlashing red LIGHT BARS speed into view, skimming the tops \\nof the weeds. Heading straight for us.\\n\\n\\n\\n4.\\n\\nWalt stands tall in his underpants, not flinching. Off him, \\nready to shoot the first cop he sees ...\\n\\nEND TEASER\\n\\nACT ONE\\n\\nEXT. WHITE HOUSE - NIGHT6 6\\n\\nNo president ever slept here. No millionaire ever visited. \\nThis is a three-bedroom RANCHER in a modest neighborhood. \\nWeekend trips to Home Depot keep it looking tidy, but it'll \\nnever make the cover of \\\"Architectural Digest.\\\"\\n\\nWe're in Ontario, California -- the Inland Empire. LEGEND: \\n\\\"ONE MONTH EARLIER.\\\"\\n\\nINT. WHITE HOUSE - MASTER BEDROOM - NIGHT7 7\\n\\nDark and silent. SKYLER WHITE, late 30s, sleeps peacefully.\\n\\nBeside her, her husband Walter is wide awake.\\n\\nWalt reaches over and presses a button on his Sharper Image \\nalarm clock. It projects the time in glowing blue numbers \\non the cottage cheese ceiling: 5:02 AM.\\n\\nWalt lies motionless. Brain churning. He presses the button \\nagain, staring straight up. 5:02 turns to 5:03.\\n\\nClose enough. Walt rises without waking his wife. He exits.\\n\\nINT. WHITE HOUSE - SPARE BEDROOM - NIGHT8 8\\n\\nWe hear an o.s. SQUEAK-SQUEAK as we drift through this \\nroom.\\n\\nWe pass an empty crib, Pampers, a baby monitor still in its \\nbox. There's going to be a new addition to the family.\\n\\nWe come upon the source of the SQUEAKING. It's Walt \\nbalanced on a Lillian Vernon stair-stepper, just three easy \\npayments of $29.95.\",\n",
      "      \"title\": \"BREAKING_BAD_-_PILOT.pdf\"\n",
      "    },\n",
      "    {\n",
      "      \"@search.score\": 0.8461982,\n",
      "      \"chunk\": \"not \\njust to his family, but to everyone in the place. Such is \\nthe force of his will that strangers APPLAUD him.\\n\\nWalter, Jr. holds up a hand, which Hank high-fives.\\n\\nWALTER, JR.\\nDamn. TV does--add ten pounds.\\n\\nHANK\\n\\n\\n\\n14.\\n\\nAh hah-hah. Sit and spin.\\n\\nHank rubs the corner of his mouth with his middle finger, \\nflipping off Walter, Jr. They're like two teenagers.\\n\\nWalt eats french fries and tries his best to tune everyone \\nout. Something on TV catches his eye.\\n\\nIt's the spoils of this drug bust. Laid out on a table are \\nbags and bags of crystal meth and several guns. But also \\n... eight big SHOEBOXES full of CASH.\\n\\nWalt chews his food, watches. Despite himself ...\\n\\nWALT\\nHank? How much money is that?\\n\\nHANK\\nAlmost seven hundred thousand.\\nPretty good haul.\\n\\nThe TV lingers on fat rolls of $20s rubber-banded together.\\n\\nIt's more currency than Walt has ever seen outside of a \\nheist movie. He's surprised.\\n\\nWALT\\nThat's got to be unusual, right?\\nThat kind of cash?\\n\\nHANK\\nMmm. Not the most we ever took.\\n\\n(to the room)\\nThere's no deficit of total morons\\nin the drug trade. And they can\\nmake a ton of money, too. At least\\nuntil we catch 'em. But we catch\\n'em eventually.\\n\\nHank flashes his great smile around the room. He notes \\nWalt's continued interest in the news report. Likes it.\\n\\nHANK\\nWalt, just say the word and I'll\\ntake you on a ride-along. You can\\nwatch us knock down a meth lab.\\n\\n(good-natured)\\n'Less that's too much excitement\\nfor you.\\n\\nWalt forces a pained grin and shrugs -- maybe someday.\\n\\n\\n\\n15.\\n\\nEXT. WHITE HOUSE - NIGHT21 21\\n\\nThe lights are off. It's late.\\n\\nINT. WHITE HOUSE - MASTER BEDROOM/BATHROOM - NIGHT22 22\\n\\nWalt, dressed for bed in sweats and a t-shirt, checks \\nhimself out in the bathroom mirror. He's not loving what he \\nsees.\\n\\nHe pulls at the skin under his eyes. He COUGHS a little.\\n\\nIn the bedroom, Sky1er's in her nightgown, sitting at the \\ncomputer. She's following the final moments of an auction \\non eBay. Walt pads into the room, sits down beside her.\\n\\nWALT\",\n",
      "      \"title\": \"BREAKING_BAD_-_PILOT.pdf\"\n",
      "    },\n",
      "    {\n",
      "      \"@search.score\": 0.84407264,\n",
      "      \"chunk\": \"24.\\n\\nWALTER, JR.\\nOh--damn! Hell, yeah!\\n\\nWalter, Jr. awkwardly pumps his fist. Walt keeps watching.\\n\\nWALT\\nDVD?\\n\\nWALTER, JR.\\n(nods)\\n\\nUncle Hank--gave--it to me.\\n\\nWalt's eyes stay on the screen. The garish little kingpin \\nmows down acres of Columbians, then dies in a blaze of \\nglory.\\n\\nOff Walt, whose thoughts are unknown to us ...\\n\\nINT. WHITE HOUSE - MASTER BEDROOM - NIGHT33 33\\n\\nGlowing blue numbers project on the cottage cheese ceiling: \\n4:26 AM. Walt lies awake beside his sleeping wife.\\n\\nINT. WHITE HOUSE - SPARE BEDROOM - NIGHT34 34\\n\\nSQUEAK-SQUEAK, SQUEAK-SQUEAK. Walt thumps up and down on \\nhis cheapie stair-stepper. He speeds up -- faster than the \\nlast time. Thump, thump, thump. As seen through the bars of \\nthe empty crib, he's really working it hard.\\n\\nSweat beads on his face. Bam, bam, bam. Faster, faster.\\n\\nHarder. Violent. Sweat drips off his nose. until--\\n\\n-- CRACK. He BREAKS the stair-stepper. One footpad snaps \\nfree, hangs limp. Walt steps off and examines it.\\n\\nHe stares down at it for the longest time. We CREEP IN on \\nhis face. The thousand-yard stare he's had since Doctor \\nBelknap's office gives way to something else now.\\n\\nWALT\\nTwo years.\\n\\nHe says it barely audibly. It's like the clouds have \\nparted.\\n\\nThe situation has finally, truly registered in Walt's \\nbrain.\\n\\n\\n\\n25.\\n\\nEXT. WHITE HOUSE - DAWN35 35\\n\\nEarly morning. A faint glow in the sky. Silence except for \\nthe THWACK ... THWACK of the NEWSPAPER GUY driving past.\\n\\nINT. WHITE HOUSE - KITCHEN - DAWN36 36\\n\\nwalt sits alone at the kitchen table, staring into space.\\n\\nDeep in thought. Considering something carefully. He rises, \\npicks up the phone and dials. Keeps his voice low.\\n\\nWALT\\nHank? Hey, it's Walt. I didn't wake\\nyou, did I?\\n\\n(a beat)\\nGood. Listen, I've been thinking.\\nCould I take you up on your offer?\\nThe ride-along?\\n\\nCUT TO:\\n\\nEXT. BLUE-COLLAR NEIGHBORHOOD - MORNING37 37\\n\\nA different morning -- these things take time to set up.\\n\\nWe're in a neighborhood not unlike Walt's. A non-descript\",\n",
      "      \"title\": \"BREAKING_BAD_-_PILOT.pdf\"\n",
      "    },\n",
      "    {\n",
      "      \"@search.score\": 0.84088033,\n",
      "      \"chunk\": \"Let me\\nlook into that. Thank you.\\n\\nWalt enters, hearing the tail-end. Skyler hangs up.\\n\\nSKYLER\\nYou're home early.\\n\\nWalt nods, finds a beer in the fridge. His fingers tremble \\na little as he pries off the cap. Skyler doesn't notice --\\n\\nshe's sifting through a stack of bills.\\n\\nWalt sits at the table. He drinks deep, rubs his mouth.\\n\\nSKYLER\\nHow was your day?\\n\\nWALT\\nYou know. Same.\\n\\nSKYLER\\nDon't tell me Amir's sending you\\nhome at five now.\\n\\n\\n\\n23.\\n\\nWALT\\nNo, just. Today.\\n\\nSKYLER\\n(studying a bill)\\n\\nDid you use the MasterCard last\\nmonth? $15.88 at Staples?\\n\\nWALT\\nUh. We needed printer paper.\\n\\nSKYLER\\nWalt, the MasterCard's the one we\\ndon't use.\\n\\nWalt nods, overwhelmed and hiding it. Skyler doesn't know \\nabout his doctor's appointment. Even if Walt wants to tell \\nher, something stops him. He sips his beer, stares.\\n\\nLoud MACHINE GUN FIRE startles them both. Skyler yells into \\nthe living room.\\n\\nSKYLER\\nDAMMIT, WALTER! TURN THAT DOWN!\\n\\n(more GUNFIRE)\\nGo talk to him.\\n\\nWalt rises, sets his bottle in the sink.\\n\\nINT. WHITE HOUSE - LIVING ROOM - CONTINUOUS32 32\\n\\nThe end of \\\"Scarface\\\" plays on the TV. TONY MONTANA, with \\nhis mountain of cocaine and his M-16, takes on all comers.\\n\\nWalter, Jr. is sprawled on the couch, watching. His \\ncrutches are leaned against the armrest.\\n\\nWALTER, JR.\\nHey.\\n\\nWALT\\nHey.\\n\\n(watches TV, remembers)\\nYour Mom wants you to turn it down.\\n\\nWALTER, JR.\\nShit, come--on. This is--the best--\\nWait, wait ...\\n\\nTONY MONTANA (ON TV)\\nCOME AN' MEET MY LEETLE FRIEND!\\n\\n\\n\\n24.\\n\\nWALTER, JR.\\nOh--damn! Hell, yeah!\\n\\nWalter, Jr. awkwardly pumps his fist. Walt keeps watching.\\n\\nWALT\\nDVD?\\n\\nWALTER, JR.\\n(nods)\\n\\nUncle Hank--gave--it to me.\\n\\nWalt's eyes stay on the screen. The garish little kingpin \\nmows down acres of Columbians, then dies in a blaze of \\nglory.\\n\\nOff Walt, whose thoughts are unknown to us ...\\n\\nINT. WHITE HOUSE - MASTER BEDROOM - NIGHT33 33\\n\\nGlowing blue numbers project on the cottage cheese ceiling: \\n4:26 AM. Walt lies awake beside his sleeping wife.\",\n",
      "      \"title\": \"BREAKING_BAD_-_PILOT.pdf\"\n",
      "    },\n",
      "    {\n",
      "      \"@search.score\": 0.8396399,\n",
      "      \"chunk\": \"H. White.\\\"\\n\\nWalt stares at his own name on the plaque. We can't read \\nhis thoughts, but we can guess at them.\\n\\nEXT. CALTECH CAMPUS - COFFEE STAND - DAY25 25\\n\\nAn outdoor snack bar. Walt sits alone. Around him, young \\nSTUDENTS pore over textbooks or quietly type on laptops.\\n\\nWalt sips his coffee and stares into space.\\n\\nAt the nearest table, a CHINESE GUY sits with two CHINESE \\nGIRLS. They're laughing and talking in CANTONESE. They keep \\ntheir voices low so their gossip might not be overheard --\\n\\nbut it's not like we have any idea what they're saying.\\n\\nWalt takes another sip of coffee, carefully sets down the \\ncup. He looks at his hand for a long moment.\\n\\nHe notices his fingers are TREMBLING slightly. He makes a \\nfist, squeezes it tight. Opens it.\\n\\n\\n\\n18.\\n\\nThe Asian students are talking a mile-a-minute, the two \\ngirls giggling. walt glances at them, looks back to his \\nhand. He presses it flat against the tabletop.\\n\\nUP-ANGLE -- as seen through this GLASS TOP TABLE, Walt's \\nfingers stick to the surface. They pull loose with a slow, \\ngluey SLURP.\\n\\nCLOSER on Walt. He rubs his mouth, sneaks his fingertips to \\nhis carotid artery just under his ear. He's feeling his \\npulse. The furtive whispering in CHINESE fills his head.\\n\\nHe's starting to breathe faster.\\n\\nHis cellphone RINGS. He glances at the readout screen.\\n\\n\\\"HOME,\\\" it says. Walt silences it, tucks the phone back in \\nhis pocket.\\n\\nRapid-fire CHINESE is all we hear. Now it gets drowned out \\nby a sudden WHOOSH that makes Walt blink. It's the whoosh \\nof the nearby cappuccino machine. It's unnaturally loud, \\nlike a jet engine. Walt's had enough. Time to go.\\n\\nHIGH ANGLE - DOWN THROUGH THE TREES\\n\\nMagnolia leaves sway in f.g. We're looking down at Walt, \\ntiny in the distance, as he rises to his feet. He makes it \\nthree steps before he COLLAPSES, flipping an empty table.\\n\\nStudents look up, hesitate. The Chinese guy and a couple of \\nothers rise to help. Off Walt, lying on his face ...\\n\\nEND ACT ONE\\n\\nACT TWO\",\n",
      "      \"title\": \"BREAKING_BAD_-_PILOT.pdf\"\n",
      "    }\n",
      "  ]\n",
      "}\n"
     ]
    }
   ],
   "source": [
    "# Replace these placeholders with your actual values\n",
    "aais_base_url = \"https://YOUR_SEARCH_URL.search.windows.net/\"\n",
    "aais_index_name = \"YOUR_INDEX_NAME\"\n",
    "aais_api_key = \"YOUR_API_KEY\"\n",
    "aais_api_version = \"2024-03-01-Preview\"\n",
    "aais_index_vector_field = \"YOUR_VECTOR_FIELD_NAME\"\n",
    "\n",
    "\n",
    "# The URL for the request\n",
    "url = f\"{aais_base_url}/indexes/{aais_index_name}/docs/search?api-version={aais_api_version}\"\n",
    "\n",
    "# The headers for the request\n",
    "headers = {\n",
    "    \"Content-Type\": \"application/json\",\n",
    "    \"api-key\": aais_api_key\n",
    "}\n",
    "\n",
    "# The body of the request\n",
    "body = {\n",
    "    \"count\": True,\n",
    "    \"select\": \"title, chunk\", # other fields to return may go here\n",
    "    \"vectorQueries\": [\n",
    "        {\n",
    "            \"kind\": \"vector\",\n",
    "            \"vector\": embedding,\n",
    "            \"exhaustive\": True,\n",
    "            \"fields\":aais_index_vector_field,\n",
    "            \"k\": 5\n",
    "        }\n",
    "    ]\n",
    "}\n",
    "\n",
    "# Make the POST request\n",
    "response = requests.post(url, headers=headers, data=json.dumps(body))\n",
    "\n",
    "# Check the response\n",
    "if response.status_code == 200:\n",
    "    print('Request successful!')\n",
    "    json_response = response.json()\n",
    "    json_str = json.dumps(json_response, indent=2)\n",
    "    # Print the response\n",
    "    print(json_str)\n",
    "else:\n",
    "    print('Request failed!')\n",
    "    print(response.text)\n"
   ]
  }
 ],
 "metadata": {
  "kernelspec": {
   "display_name": "Python 3",
   "language": "python",
   "name": "python3"
  },
  "language_info": {
   "codemirror_mode": {
    "name": "ipython",
    "version": 3
   },
   "file_extension": ".py",
   "mimetype": "text/x-python",
   "name": "python",
   "nbconvert_exporter": "python",
   "pygments_lexer": "ipython3",
   "version": "3.11.9"
  }
 },
 "nbformat": 4,
 "nbformat_minor": 2
}
