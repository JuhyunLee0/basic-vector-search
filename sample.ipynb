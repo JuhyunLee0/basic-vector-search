{
 "cells": [
  {
   "cell_type": "markdown",
   "metadata": {},
   "source": [
    "installing required packages"
   ]
  },
  {
   "cell_type": "code",
   "execution_count": null,
   "metadata": {},
   "outputs": [],
   "source": [
    "! pip install requests"
   ]
  },
  {
   "cell_type": "code",
   "execution_count": 3,
   "metadata": {},
   "outputs": [],
   "source": [
    "import requests\n",
    "import json"
   ]
  },
  {
   "cell_type": "markdown",
   "metadata": {},
   "source": [
    "generating embedding from Azure OpenAI Rest API"
   ]
  },
  {
   "cell_type": "code",
   "execution_count": 7,
   "metadata": {},
   "outputs": [
    {
     "name": "stdout",
     "output_type": "stream",
     "text": [
      "Request successful!\n",
      "[0.010393711, -0.02296391, -0.00891448, -0.012394256, -0.02610483, -0.0037827895, -0.025414089, -0.008503946, -0.013697542, -0.013313073, 0.014909599, 0.027473282, -0.004799353, 0.031982653, 0.020292172, 0.002947057, 0.042304683, 0.0019923993, -0.0002045549, -0.016890595, -0.021934314, 8.817548e-05, -0.024814578, 0.02950641, -0.007969597, 0.023198502, 0.019484134, -0.020435534, 0.0064023957, -0.042904194, 0.01850667, -0.00548032, -0.013091514, -0.02451482, -0.009455345, -0.004773287, 0.0075329966, -0.0014727139, 0.013208809, -0.014544679, 0.010191701, -0.0118012605, 0.022937844, -0.008204189, -0.038577285, 0.0018392632, -0.011866424, -0.015952228, -0.00064919965, 0.018389374, 0.007089879, -0.0034504512, 0.009924527, -0.014831401, 0.0028965545, -0.017242482, 0.018663064, 0.021725787, -0.01134511, -0.009109973, -0.0009041551, -0.014179758, -0.02009668, 0.004760254, 0.012993768, -0.0028102119, -0.01636928, 0.031357076, -0.006874837, 0.02815099, 0.03297315, 0.018246012, 0.0022970426, -0.0118012605, 0.032086916, -0.01563944, -0.041913696, 0.025909338, -0.027812136, -0.013762707, 0.024384493, -0.015339684, -0.01622592, 0.028620174, 0.0088102175, 0.016499609, -0.021061111, 0.0126809785, -0.028333452, -0.008080377, -0.017372811, 0.022664154, 0.0241499, 0.015065993, -0.0075720954, 0.029402146, -0.02060496, 0.0176856, -0.010791213, -0.05452951, 0.016134689, -0.0035319068, -0.02528376, -0.015939195, 0.0109345745, -0.008210706, 0.0019223477, -0.0020135778, 0.030418709, -0.00033213446, -0.0088949315, 0.037456457, 0.004916649, -0.052313924, -0.008217222, -0.016278049, 0.013880002, -0.017894125, 0.0016160754, -0.037117604, 0.020539796, 0.020018483, 0.0017561787, -0.024358427, 0.020904718, 0.01996635, -0.018676097, -0.005985344, -0.008021729, -0.005239212, 0.012087983, 0.005910405, 0.0048808083, 0.0010124908, 0.0010206363, 0.025218597, -0.019223478, 0.013247908, -0.011827326, -0.02060496, 0.01414066, 0.0073766024, 0.011560152, -0.020578895, -0.02269022, 0.028594108, 0.015326651, 0.010810763, 0.008067344, 0.012198763, 0.0014792302, 0.017881092, 0.03060117, 0.008314968, -0.018623965, 0.027108362, -0.009735551, 0.008354067, -0.026443684, -0.010374161, -0.010673917, -0.015978293, 0.024462689, -0.030184118, -0.018024454, 0.03730006, 0.0068096723, 0.012596265, -0.011038838, 0.0051251748, -0.021243572, 0.025205564, -0.030444775, 0.047309306, -0.005643231, 0.00039709514, -0.01819388, 0.012882988, -0.02610483, 0.021986445, -0.008725503, 0.02351129, -0.0076959073, -0.0007538698, -0.004724414, -0.015900096, 0.025844174, -0.022742352, 0.022116773, -0.017411908, 0.011332077, 0.031565603, 0.0021455355, 0.007748039, -0.645179, -0.0006178393, -0.009455345, -0.0018278594, 0.027186558, 0.016434444, 0.003975024, -0.013906068, -0.010921542, -0.0029552025, 0.022155872, 0.023393994, -0.01655174, -0.018949788, -0.006021184, -0.031174615, -0.017359778, -0.003975024, 0.0043366863, 0.013945167, -0.020878652, 0.032425772, -0.029532474, -0.026117863, 0.029949525, 0.008510461, 0.018441506, -0.014257955, -0.0041411933, -0.009364114, -0.03555366, 0.041418448, -0.0004581867, 0.019484134, 0.035762183, 0.004939456, 0.0014051059, 0.016108623, 0.020213975, 0.009311982, -0.020761356, -0.005793109, 0.037664983, 0.0019826246, -0.009904978, 0.010471907, -0.020396436, 0.004665766, 0.0036492024, 0.004004348, -0.0015769767, 0.008829767, 0.0025137141, 0.02888083, -0.01273311, -0.0038251462, 0.010061373, 0.010387194, -0.0049427142, 0.025752943, -0.014609843, 0.04511978, -0.009448828, 0.014492547, 0.022898745, 0.021699723, -0.01330004, 0.022572923, 0.0098723965, 0.012889504, 0.0127787255, 0.025700811, -0.0070768464, 0.013801805, 0.0053369584, 0.012615814, 0.010608753, -0.0058028838, 0.034120042, -0.007122461, 0.001030411, -0.018128717, -0.0069921324, -0.013234875, 0.029532474, -0.0045582447, -0.013971233, -0.004346461, 0.0103611285, 0.0035644888, 0.01636928, 0.015652472, -0.015378782, -0.03310348, -0.021061111, 0.013723608, 0.005946245, -0.011736096, 0.0041183857, -0.019653562, -0.018024454, -0.038264494, 0.014388284, 0.003867503, -0.00092777715, 0.0035481977, -0.008034762, 0.0032696202, 0.01728158, -0.016708134, 0.01059572, 0.016382312, -0.030549038, -0.0153918145, 0.0016054861, -0.010765147, 0.008393166, 0.0055617755, -0.004300846, -0.03146134, 0.015430913, 0.0204616, 0.01905405, 0.0015623148, -0.002360578, 0.011364659, -0.014349186, -0.02287268, -0.033494465, -0.020083647, 0.0062557757, -0.017086087, 0.005594358, -0.0081390245, 0.045406505, 0.0008060013, 0.006698893, -0.021152342, 0.004062996, 0.010419777, -0.025062202, 0.013313073, 0.007748039, 0.006848771, -0.04360797, -0.029636737, -0.0024322586, 0.0065685646, -0.020565862, 0.008745053, -0.00829542, -0.0074678324, -0.014270988, 0.040688608, 0.012609298, -0.0052913437, -0.0041444516, -0.030549038, -0.019197412, -0.005806142, -0.004079287, 0.009761617, 0.019132247, -0.0096899355, 0.0045549865, 0.0029780099, 0.0072723394, -0.0010809134, 1.9434752e-05, -0.024045639, 0.020995947, -0.017907158, -0.024814578, -0.0034276438, 0.009644321, 0.031852324, 0.012159664, 0.010862893, -0.0010548476, -0.0013130612, -0.014453448, 0.004212874, -0.0077741044, 0.015704604, 0.018402407, -0.00089600956, 0.0012829228, 0.00781972, 0.011319044, -0.0028134699, -0.017307647, 0.027838202, 0.0028053245, -0.0009603593, 0.011449372, 0.0025397798, 0.023732848, 0.0033820288, 0.0031376625, 0.026717376, 0.0018099393, -0.0077284896, 0.029845264, -0.011188716, 0.005385832, -0.024306295, 0.0106674, 0.0029861555, 0.01243987, -0.006333973, 0.014883533, -0.016512642, 0.0061873533, -0.02064406, 0.01991422, 0.009240302, -0.028124925, 0.021478163, -0.00045533574, -0.004952489, -0.0024355168, 0.0067054094, -0.012941636, -0.017998388, -0.024019573, 0.012231344, 0.013932134, 0.015404847, 0.0027043198, -0.018584866, -0.0042030993, -0.012498518, 0.002692916, -0.0024729862, -0.012420321, -0.023081206, -0.008373616, -0.010080921, 0.021764886, -0.008308453, -0.017307647, 0.02100898, 0.03297315, 0.0042715217, 0.025309825, 0.0007106985, 0.029089358, 0.0014930777, -0.032503966, 0.02146513, 0.0004164408, 0.0043269116, -0.015313618, 0.005750752, -0.015183289, -0.04220042, 0.01414066, -0.005343475, 0.0117165465, 0.0026717375, 0.035579726, -0.0010320401, -0.0016128172, -0.016056491, -0.002314963, -0.012518068, -0.0004074807, -0.018676097, 0.004590827, -0.010693466, 0.01255065, -0.0057083955, 0.032086916, -0.011612284, 0.02487974, 0.016108623, 0.005985344, 0.02669131, -0.00089926773, 0.017437974, -0.011110518, -0.03505841, 0.023667684, 0.012967702, -0.014727139, -0.0032924279, -0.010530556, 0.012922087, -0.032894954, -0.0044279164, 0.0042715217, 0.0029079583, 0.003900085, 0.009807232, 0.0050502354, -0.018702162, 0.012602782, -0.005789851, -0.0025397798, -0.01477927, 0.008373616, -0.009083908, 0.017763797, -0.0059788274, 0.012159664, 0.027290821, 0.004828677, -0.0011688852, 0.008751569, -0.023459159, -0.03555366, -0.00021096952, -0.0069204518, -0.0176856, -0.009813748, -0.009031776, -0.010713016, -0.012928603, 0.023133337, -0.011846875, 0.0038446954, -0.021843083, -0.018923722, -0.017411908, 0.108850494, 0.035996776, -0.008543043, 0.02755148, -0.007330987, -0.004043447, -0.016577806, -0.03023625, 0.0025593292, -0.041757304, 0.011319044, 0.026352456, 0.004212874, 0.003355963, 0.004906874, -0.012948153, 0.014101561, -0.0153918145, -0.020982914, -0.032686427, -0.0060863486, 0.0096769035, 0.010217767, 0.0127787255, -0.0019076858, -0.010367645, 0.010524039, 0.017907158, 0.009781166, -0.022546858, -0.0022204746, 0.008608208, 0.0073049213, 0.0018343759, 0.0069465176, -0.006698893, -0.021621525, 0.024384493, 0.01865003, -0.0030969349, 0.003746949, 0.004629926, 0.006076574, -0.01914528, 0.01236819, -0.03550153, 0.006549015, 0.023068173, -0.013684509, -0.027264755, 0.016486576, -0.0016152608, -0.008868866, -0.027890334, 0.016134689, -0.00032317435, -0.008243288, -0.014531646, -0.009781166, 0.032399707, -0.005525935, 0.0041314187, -0.011188716, -0.026587047, -0.01618682, -0.006744508, 0.002062451, -0.021777919, 0.0055129025, -0.01819388, 0.0138409035, -0.04014123, -0.021178408, 0.012035851, 0.032686427, -0.0057996255, 0.019093148, -0.026417619, -0.009826781, 0.01012002, 0.018715195, -0.023824079, 0.006141738, -0.023706783, 0.010387194, -0.005942987, 0.03193052, 0.0020445308, -0.019041017, 0.025518352, -0.0048808083, 0.019992417, 0.012909054, -0.011742612, -0.008516978, 0.0064643016, -0.00866034, 0.030131986, 0.010328546, -0.025153432, -0.0027808878, -0.027577544, 0.0040238975, 0.010106987, -0.0007314696, -0.017398877, -0.00015130342, 0.013932134, -0.03328594, 0.004473531, -0.0026847704, -0.0125832325, 0.0066467617, -0.0088428, 0.0046397005, 0.038681548, 0.013827871, 0.04279993, -0.015039927, -0.00781972, 0.0098723965, -0.037221864, 0.02564868, 0.021139309, -0.004278038, -0.009227269, -0.009448828, 0.009116489, 0.00070051657, -0.0036817847, -0.0023377703, 0.013384754, -0.0056823296, -0.035579726, -0.017177317, 0.0039652493, -0.002665221, 0.021061111, -0.013371721, -0.009683419, -0.0045452123, -0.018376341, -0.004460498, -0.010100471, -0.015743703, -0.036935143, 0.0006935928, -0.004743963, -0.0021944088, 0.00014947068, 0.0119967535, 0.0052620196, -0.01792019, -0.0036166203, 0.029949525, -0.03610104, -0.005594358, -0.012016303, 0.031018222, 0.008054311, 0.025401056, 0.0015916388, 0.0044311746, 0.012557167, -0.0048417095, 0.004538696, -0.0033820288, 0.00734402, -0.02888083, 0.037195798, 0.011449372, 0.013247908, 0.0045321793, 0.022116773, -0.0032386673, 0.021673657, -0.0006231339, -0.0024420333, -0.013208809, -0.022403497, -0.008543043, -0.0044930805, -0.021452097, -0.015456979, 0.017529204, -0.016069524, 0.0121922465, 0.03120068, 0.0019956576, -0.008067344, 0.029636737, -0.018167816, 0.017177317, -0.011990237, 0.020657092, -0.014974763, -0.027577544, 0.017503139, -0.0041151275, 0.022846615, 0.027577544, -0.017268548, -0.007044264, 0.00012045219, -0.016903628, 0.019757824, -0.012817823, -0.0036035874, 0.012166181, -0.016812397, -0.0050534937, -4.9509617e-05, -0.011885974, -0.036726616, 0.012674462, -0.0005901445, -0.02537499, 0.017998388, -0.015326651, -0.02901116, -0.005203372, -0.011501504, 0.019366838, 0.00816509, 0.053903934, 0.02632639, -0.008686406, -0.010660884, -0.012589749, -0.000113121205, -0.005646489, 0.0021992961, -0.01043281, -0.018819459, -0.009624772, -0.018076586, -0.009233786, -0.0028704887, -0.024267197, -0.017698633, -0.019992417, 0.009149072, -0.02000545, -0.031122483, -0.0024159676, 0.042773865, -0.002919362, -0.019379871, -0.013697542, -0.03565792, -0.015782801, -0.0049492307, 0.0002553627, 0.017633468, -0.016603872, -0.003730658, -0.019549299, -0.036309566, -0.022585956, 0.018128717, -0.006861804, 0.0279164, -0.023485225, 0.015535177, -0.012231344, 0.01623895, -0.017763797, -0.0009660612, -0.005506386, 0.022742352, -0.010367645, 0.0022465403, 0.0045191464, -0.02241653, 0.0021455355, 0.011012772, -0.0021455355, -0.016121656, -0.0085300105, 0.003626395, 0.016903628, 0.013984265, -0.019809956, -0.011749129, -0.012563683, 0.0072006583, -0.021048078, -0.0099701425, 0.018428473, -0.03365086, -0.016265016, -0.013326106, 0.024267197, 0.0138409035, 0.009311982, -0.028229188, -0.016030425, 0.006724959, -0.021035045, -0.008288903, -0.0065815975, 0.021517262, -0.010647852, -0.0048970995, 0.0101656355, -0.036179237, 0.026039666, 0.003597071, -0.018402407, -0.012179214, 0.0021325026, 0.0011859908, 0.012400772, -0.027890334, 0.0018669581, 0.019588398, 0.00655879, -0.015131158, 0.003701334, -0.004528921, -0.033077415, 0.036726616, 0.0052229213, -0.034224305, -0.012576716, 0.036726616, -0.015847964, 0.017164284, -0.0015729041, 0.0025348924, -0.018676097, 0.019822989, 0.021426031, -0.0106674, -0.010830312, -0.004773287, -0.017007891, 0.0022318782, -0.011429824, -0.036361698, 0.013606312, 0.01227696, 0.0001215722, 0.028541977, -0.028098859, -0.018702162, -0.020292172, -0.01973176, -0.037925642, -0.033416267, 0.0027939207, 0.013326106, 0.009331532, -0.019132247, -0.012061917, -0.010263382, -0.009448828, -0.018832492, -0.0052001136, -0.0051088836, 0.015756736, -0.015978293, -0.009644321, 0.025987536, 0.01152757, -0.0023899018, -0.0070638135, -0.014270988, 0.00082310697, -0.017164284, 0.005855015, 0.010941091, -0.010315513, 0.014753205, 0.029897396, 0.0042226487, -0.032894954, -0.0053206678, -0.023680717, -0.009950593, -0.036596287, 0.022377431, -0.008881899, 0.013528115, -0.0026375263, -0.007239757, 0.0176465, 0.0027010615, -0.0022025544, -0.009989692, 0.017451007, 0.025153432, -0.0059527615, 0.0026912868, 0.006249259, 0.005894114, 0.0036817847, 0.015470012, 0.011169166, -0.004043447, 0.0057051373, 0.034302503, 0.00074653886, 0.009989692, 0.005138207, -0.00873202, -0.007643776, 0.006516433, 0.010106987, -0.011534086, 0.017868059, 0.0042356816, 0.016147722, -0.015691571, 0.014675007, -0.0153918145, 0.013749674, -0.02501007, 0.009083908, -0.020474633, -0.00020150033, -0.013397786, -0.0016779815, 0.013039382, 0.010817279, -0.012127082, 0.015522144, -0.018154783, 0.0013977749, 0.009598706, -0.017568303, -0.021673657, 0.019392904, 0.02646975, 0.018311176, 0.019301675, 0.25169072, -0.0006255776, 0.0047276723, 0.031956587, -0.006663053, 0.019822989, 0.015887063, -0.013502049, 0.009266368, 0.0204616, 0.019106181, 0.0015044814, -0.024944905, 0.00716156, -0.011494988, -0.008399682, -0.04074074, -0.012048884, -0.022208003, -0.022846615, 0.017607402, 0.00188162, 0.0058322074, -0.03391152, 0.019940285, 0.011664415, -0.0010988335, -0.01633018, 0.039854504, 0.027290821, -0.010022274, -0.00873202, 0.00051194726, 0.01068695, 0.0094814105, -0.0084192315, 0.0011843618, -0.009546574, 0.0055357097, 0.00761771, -0.007689391, 0.0055585173, -0.029323949, -0.026482783, 0.009331532, -0.009429279, -0.016043458, -0.01068695, 0.010028791, 0.021699723, -0.013195777, -0.00816509, 0.0058875973, 0.03946352, 0.00502417, 0.013919101, -0.0042356816, -0.01832421, -0.0035090991, 0.023771947, -0.002890038, 0.02159546, -0.028411647, 0.023198502, 0.009168621, 0.03391152, -0.028672306, 0.018480605, -0.00034129818, -0.010328546, -0.0023899018, -0.0029047, -0.019001918, 0.020878652, -0.020683158, 0.004379043, 0.019549299, 0.022677187, 0.0040760287, 0.022351366, -0.008393166, 0.005913663, -0.003952217, 0.019484134, -0.021139309, -0.022221036, -0.0007913393, 0.0011338594, 0.008067344, -0.018767327, -0.0056921043, -0.019992417, 0.011384209, 0.014179758, 0.02210374, -0.012218312, 0.024175966, 0.0014091786, -0.01050449, -0.012120565, -0.013208809, 0.013489016, 0.011586218, 0.0061449963, -0.005962536, 0.018558802, -0.009527025, 0.008582142, -0.0109345745, -0.017477073, -0.011338593, -0.008341034, 0.01878036, -0.005239212, -0.008647307, 0.023850145, -0.009696452, -0.039489586, 0.011006256, -0.028385581, 0.003447193, -0.042565342, -0.00062842853, -0.0023442868, -0.002860714, -0.006953034, 0.00089600956, 0.015704604, 0.0036654936, -0.010941091, -0.0054672873, -0.015131158, 0.0118012605, 0.00716156, 0.0010059744, -0.007937015, -0.0021145826, 0.0033461885, -0.0073049213, -0.00460386, -0.025557451, -0.012211796, -0.011768678, -0.00063453766, 0.008445297, -0.034120042, 0.0046885735, -0.015274519, 0.0070768464, -0.020292172, -0.009031776, -0.009742067, 0.0050534937, -0.01782896, 0.020696191, 0.001819714, -0.00042560452, -0.02828132, -0.001580235, 0.009944077, -0.0014613101, 0.01759437, 0.027499348, -0.024488755, -0.014114594, 0.0034211273, -0.16525674, 0.0132674575, 0.00665002, -0.020878652, 0.013137129, -0.009781166, 0.019757824, -0.004682057, 0.0070181983, 0.038525153, -0.00348955, -0.009351081, -0.014349186, -0.010282931, -0.00478632, 0.010400227, -0.0054738037, 0.020122746, 0.0035449394, -0.004470273, 0.038681548, 0.012048884, 0.02524466, 0.006562048, 0.019796923, -0.008497429, 0.0092859175, 0.025088267, 0.0070963954, -7.264804e-05, -0.028333452, -0.028776567, 0.0030089628, -0.00052660925, 0.01941897, -0.011755645, -0.0011876199, -0.02919362, -0.0033918035, 0.021256605, 0.038864005, 0.007956564, 0.014088528, 0.0052880854, -0.009931044, 0.033025283, 0.004062996, 0.005138207, -0.0042030993, -0.009155588, 0.018154783, -0.031174615, -0.014805336, 0.013039382, 0.025583517, 0.003730658, 0.0024273712, -0.00079093204, 0.012374707, 0.002994301, -0.018610932, -0.0077545554, 0.018532736, -0.008080377, -0.010172152, 0.017411908, -0.0059918603, -0.007493898, -0.011736096, 0.0036915592, -0.0058224327, -0.023980474, -0.0038414372, -0.016525675, 0.009272885, 0.009318499, -0.009168621, 0.0031132258, -0.009989692, 0.0026000568, 0.0031718737, 0.013182744, -0.0166951, -0.0066272123, -0.003443935, -0.0016095589, -0.0005184637, 0.016121656, -0.004828677, -0.019588398, 0.002603315, -0.0026815122, -0.023315797, -0.027108362, -0.0019288642, -0.00376324, 0.014948698, 0.008647307, 0.009507475, -0.022507759, 0.010726049, 0.01012002, -0.021517262, 0.0009782795, 0.010993223, 0.023954408, -0.0018246012, 0.026652211, 0.008627757, 0.004538696, -0.026417619, 0.012713561, 0.0134629505, 0.03743039, -0.00045859398, 0.0063991374, -0.0058224327, -0.009012227, -0.00264893, -0.012231344, 0.051271293, 0.0030040757, 0.004756996, 4.43232e-06, -0.025935404, 0.00014804522, -0.09998815, -0.030027723, 0.0077154567, 0.029089358, 0.011729579, 0.03292102, 0.025296792, 0.017203383, -0.003038287, 0.025205564, -0.012478969, -0.047674224, -0.012407289, -0.0034276438, -0.00493294, 0.0033755123, 0.023094239, -0.017112153, -0.036179237, 0.019588398, -0.015300585, -0.00882325, 0.009592189, -0.019562332, 0.0026098315, -0.021139309, -0.016773298, 0.018102651, -0.0068292217, 0.0014246552, -0.00036329115, -0.009507475, 0.011957655, -0.04433781, 0.015991326, -0.0067379917, -0.024123834, -0.0059983768, -0.0096899355, -0.03273856, 0.015509111, 0.0012438241, 0.012707044, -0.023589488, 0.0036883012, 0.0024469206, -0.019432003, 0.013671476, 0.0024892774, -0.0058028838, -0.022429563, 0.00021850414, -0.013502049, -0.008543043, 0.0069856164, -0.013052415, 0.017294614, 0.0011558523, -0.032634296, -0.02205161, -0.0049590054, 0.025335891, -0.040845003, 0.0046853153, -0.0073375036, -0.018676097, 0.013397786, -0.0009123006, 0.015065993, -0.044181418, -0.00083043793, 0.011625317, -0.020253073, 0.00348955, -0.021725787, 0.010217767, 0.0009799086, 0.019184379, -0.0019207186, -0.022273168, -0.0073961513, -0.018676097, -0.014805336, -0.028959028, 0.03232151, 0.0121075325, -0.016994858, 0.016629936, 0.017998388, -0.016773298, -0.015170256, 0.0166951, 0.012205279, -0.010328546, -0.009540058, 0.019979384, 0.0011794744, 0.00920772, 0.036752682, 0.02146513, -0.00770894, -0.009077392, -0.060055446, 0.030001657, -0.016851496, -0.0048449677, 0.015287552, -0.0070181983, 0.0032468128, -0.005581325, -0.0024404041, 0.027473282, 0.0067901234, 0.03224331, 0.007102912, -0.000627614, -0.017151251, -0.009891945, 0.0023540615, 0.009109973, 0.0108368285, 0.01691666, -0.0056399726, -0.008425748, 0.02296391, 0.02183005, 0.024840642, 0.012837373, -0.018636998, -0.0007168076, -0.018741261, -0.028020661, 0.01927561, -0.005255503, -0.0030953058, 0.01633018, 0.025049169, -0.012902537, -0.011494988, 0.006907419, -0.003372254, 0.009729034, -0.01828511, -0.03047084, 0.035762183, 0.0044670147, -0.0017431459, 0.026078764, -0.031226747, 0.019210445, 0.026143929, 0.02851591, 0.015952228, 0.014661974, -0.015430913, -0.014844434, -0.01927561, 0.0067314752, -0.0069334847, -0.0053760572, 0.016134689, -0.019353807, 0.028098859, 0.018754294, -0.006571823, 0.011442856, 0.0056823296, -0.007174593, 0.017372811, -0.013723608, 0.018454539, -0.014635908, -0.009448828, -0.008054311, 0.033885453, 0.018715195, 0.016030425, 0.014531646, 0.015039927, -0.0075916443, -0.028203122, 0.0204616, 0.01377574, 8.812457e-05, -0.044598468, 0.0013342396, 0.024345394, -0.00049606344, -0.012661429, -0.0023573197, 0.007031231, 0.02060496, 0.0019598173, 0.005284827, -0.0041770334, -0.01927561, 0.011481955, 0.011371176, 0.012759176, -0.0044051087, 0.023211535, 0.04061041, 0.012250894, -0.02159546, 0.015248453, -0.020565862, -0.031174615, 0.021282671, -0.013632378, -0.017490106, 0.006350264, 0.016499609, 0.020422501, -0.0090057105, -0.007102912, 0.02064406, -0.017698633, 0.022481695, 0.011390725, -0.04061041, -0.0362835, 0.042852063, 0.008947062, -0.022260135, 0.021582427, -0.014857467, -0.0013668218, -0.0063567804, 0.028854765, -0.04246108, 0.013697542, -0.0138409035, 0.007493898, -0.018975852, -0.01227696, -0.0067966394, -0.002016836, 0.0017626951, -0.007963081, 0.016434444, -0.012896021, 0.061410863, 0.014349186, -0.013906068, 0.0028102119, -0.0018539252, 0.012909054, 0.018923722, 0.0031213714, -0.014270988, -0.009233786, 0.032217246, -0.024527853, 0.018219946, -0.008992678, -0.008855833, 0.006783607, 0.016512642, 0.02255989, -0.031539537, -0.00816509, 0.0077024237, 0.014244922, 0.014792303, 0.0043138787, -0.026925901, -0.018610932, 0.053304423, -9.7746495e-05, 0.00016667813, -0.01777683, -0.01043281, -0.0102503495, -0.0151963215, -0.017529204, -0.010784697, -0.043216985, 0.010348096, -0.009233786, 0.014935665, 0.017216416, -0.0020445308, 0.04034975, -0.0070181983, -0.040115163, -0.0073505365, 0.002269348, -0.0036622353, -0.0072462736, -0.008523494]\n"
     ]
    }
   ],
   "source": [
    "# Replace these placeholders with your actual values\n",
    "aoai_api_key = \"YOUR_API_KEY\"\n",
    "aoai_api_base_url = \"https://YOUR_AZURE_OPENAI_URL.openai.azure.com/\"\n",
    "aoai_embedding_deployment_name = \"YOUR_EMBEDDING_DEPLOYMENT_NAME\"\n",
    "aoai_api_version = \"2024-02-01\"\n",
    "\n",
    "\n",
    "# Define the URL of the API endpoint\n",
    "url = f\"{aoai_api_base_url}openai/deployments/{aoai_embedding_deployment_name}/embeddings?api-version={aoai_api_version}\"\n",
    "\n",
    "# Define the headers, including the API key\n",
    "headers = {\n",
    "    'Content-Type': 'application/json',\n",
    "    'api-key': aoai_api_key\n",
    "}\n",
    "\n",
    "# Define the JSON body of the request\n",
    "body = {\n",
    "    \"input\": \"Who is walter white?\"\n",
    "}\n",
    "\n",
    "# Convert the payload to a JSON string\n",
    "str_body = json.dumps(body)\n",
    "\n",
    "# Make the POST request with the headers and JSON body\n",
    "response = requests.post(url, headers=headers, data=str_body)\n",
    "\n",
    "embedding = None\n",
    "# Check the response\n",
    "if response.status_code == 200:\n",
    "    print('Request successful!')\n",
    "    json_response = response.json()\n",
    "    embedding = json_response[\"data\"][0][\"embedding\"]\n",
    "else:\n",
    "    print('Request failed!')\n",
    "    print(response.text)\n",
    "\n",
    "\n",
    "print(embedding)"
   ]
  },
  {
   "cell_type": "markdown",
   "metadata": {},
   "source": [
    "Calling Azure AI Search Service to do vector search\n",
    "\n",
    "for this sample, we are calling a search index that has vectorized content of \"Breaking Bad - 01 Pilot\" screenplay"
   ]
  },
  {
   "cell_type": "code",
   "execution_count": 11,
   "metadata": {},
   "outputs": [
    {
     "name": "stdout",
     "output_type": "stream",
     "text": [
      "Request successful!\n",
      "{\n",
      "  \"@odata.context\": \"https://jhl-ai-search.search.windows.net/indexes('screenplay')/$metadata#docs(*)\",\n",
      "  \"@odata.count\": 5,\n",
      "  \"value\": [\n",
      "    {\n",
      "      \"@search.score\": 0.8519684,\n",
      "      \"chunk\": \"... I\\nhad all three of you in my heart.\\n\\nThe sirens are WAILING now, on top of us. WALTER WHITE, the \\nunderpants man, turns off the camcorder. He carefully sets \\nit on a bare patch of ground by his feet. Next to it he \\nsets his wallet, lying open where it can be seen.\\n\\nCLOSE ON the wallet -- a photo ID card is visible. Walt's \\nsmiling face is on it. It identifies him as a teacher at \\nJ.P. Wynne High School, Ontario Unified School District.\\n\\nWalt pulls the chrome pistol from the back of his \\nwaistband, aiming it across the tall weeds. It glints hard \\nin the sun.\\n\\nFlashing red LIGHT BARS speed into view, skimming the tops \\nof the weeds. Heading straight for us.\\n\\n\\n\\n4.\\n\\nWalt stands tall in his underpants, not flinching. Off him, \\nready to shoot the first cop he sees ...\\n\\nEND TEASER\\n\\nACT ONE\\n\\nEXT. WHITE HOUSE - NIGHT6 6\\n\\nNo president ever slept here. No millionaire ever visited. \\nThis is a three-bedroom RANCHER in a modest neighborhood. \\nWeekend trips to Home Depot keep it looking tidy, but it'll \\nnever make the cover of \\\"Architectural Digest.\\\"\\n\\nWe're in Ontario, California -- the Inland Empire. LEGEND: \\n\\\"ONE MONTH EARLIER.\\\"\\n\\nINT. WHITE HOUSE - MASTER BEDROOM - NIGHT7 7\\n\\nDark and silent. SKYLER WHITE, late 30s, sleeps peacefully.\\n\\nBeside her, her husband Walter is wide awake.\\n\\nWalt reaches over and presses a button on his Sharper Image \\nalarm clock. It projects the time in glowing blue numbers \\non the cottage cheese ceiling: 5:02 AM.\\n\\nWalt lies motionless. Brain churning. He presses the button \\nagain, staring straight up. 5:02 turns to 5:03.\\n\\nClose enough. Walt rises without waking his wife. He exits.\\n\\nINT. WHITE HOUSE - SPARE BEDROOM - NIGHT8 8\\n\\nWe hear an o.s. SQUEAK-SQUEAK as we drift through this \\nroom.\\n\\nWe pass an empty crib, Pampers, a baby monitor still in its \\nbox. There's going to be a new addition to the family.\\n\\nWe come upon the source of the SQUEAKING. It's Walt \\nbalanced on a Lillian Vernon stair-stepper, just three easy \\npayments of $29.95.\",\n",
      "      \"title\": \"BREAKING_BAD_-_PILOT.pdf\"\n",
      "    },\n",
      "    {\n",
      "      \"@search.score\": 0.8461982,\n",
      "      \"chunk\": \"not \\njust to his family, but to everyone in the place. Such is \\nthe force of his will that strangers APPLAUD him.\\n\\nWalter, Jr. holds up a hand, which Hank high-fives.\\n\\nWALTER, JR.\\nDamn. TV does--add ten pounds.\\n\\nHANK\\n\\n\\n\\n14.\\n\\nAh hah-hah. Sit and spin.\\n\\nHank rubs the corner of his mouth with his middle finger, \\nflipping off Walter, Jr. They're like two teenagers.\\n\\nWalt eats french fries and tries his best to tune everyone \\nout. Something on TV catches his eye.\\n\\nIt's the spoils of this drug bust. Laid out on a table are \\nbags and bags of crystal meth and several guns. But also \\n... eight big SHOEBOXES full of CASH.\\n\\nWalt chews his food, watches. Despite himself ...\\n\\nWALT\\nHank? How much money is that?\\n\\nHANK\\nAlmost seven hundred thousand.\\nPretty good haul.\\n\\nThe TV lingers on fat rolls of $20s rubber-banded together.\\n\\nIt's more currency than Walt has ever seen outside of a \\nheist movie. He's surprised.\\n\\nWALT\\nThat's got to be unusual, right?\\nThat kind of cash?\\n\\nHANK\\nMmm. Not the most we ever took.\\n\\n(to the room)\\nThere's no deficit of total morons\\nin the drug trade. And they can\\nmake a ton of money, too. At least\\nuntil we catch 'em. But we catch\\n'em eventually.\\n\\nHank flashes his great smile around the room. He notes \\nWalt's continued interest in the news report. Likes it.\\n\\nHANK\\nWalt, just say the word and I'll\\ntake you on a ride-along. You can\\nwatch us knock down a meth lab.\\n\\n(good-natured)\\n'Less that's too much excitement\\nfor you.\\n\\nWalt forces a pained grin and shrugs -- maybe someday.\\n\\n\\n\\n15.\\n\\nEXT. WHITE HOUSE - NIGHT21 21\\n\\nThe lights are off. It's late.\\n\\nINT. WHITE HOUSE - MASTER BEDROOM/BATHROOM - NIGHT22 22\\n\\nWalt, dressed for bed in sweats and a t-shirt, checks \\nhimself out in the bathroom mirror. He's not loving what he \\nsees.\\n\\nHe pulls at the skin under his eyes. He COUGHS a little.\\n\\nIn the bedroom, Sky1er's in her nightgown, sitting at the \\ncomputer. She's following the final moments of an auction \\non eBay. Walt pads into the room, sits down beside her.\\n\\nWALT\",\n",
      "      \"title\": \"BREAKING_BAD_-_PILOT.pdf\"\n",
      "    },\n",
      "    {\n",
      "      \"@search.score\": 0.84407264,\n",
      "      \"chunk\": \"24.\\n\\nWALTER, JR.\\nOh--damn! Hell, yeah!\\n\\nWalter, Jr. awkwardly pumps his fist. Walt keeps watching.\\n\\nWALT\\nDVD?\\n\\nWALTER, JR.\\n(nods)\\n\\nUncle Hank--gave--it to me.\\n\\nWalt's eyes stay on the screen. The garish little kingpin \\nmows down acres of Columbians, then dies in a blaze of \\nglory.\\n\\nOff Walt, whose thoughts are unknown to us ...\\n\\nINT. WHITE HOUSE - MASTER BEDROOM - NIGHT33 33\\n\\nGlowing blue numbers project on the cottage cheese ceiling: \\n4:26 AM. Walt lies awake beside his sleeping wife.\\n\\nINT. WHITE HOUSE - SPARE BEDROOM - NIGHT34 34\\n\\nSQUEAK-SQUEAK, SQUEAK-SQUEAK. Walt thumps up and down on \\nhis cheapie stair-stepper. He speeds up -- faster than the \\nlast time. Thump, thump, thump. As seen through the bars of \\nthe empty crib, he's really working it hard.\\n\\nSweat beads on his face. Bam, bam, bam. Faster, faster.\\n\\nHarder. Violent. Sweat drips off his nose. until--\\n\\n-- CRACK. He BREAKS the stair-stepper. One footpad snaps \\nfree, hangs limp. Walt steps off and examines it.\\n\\nHe stares down at it for the longest time. We CREEP IN on \\nhis face. The thousand-yard stare he's had since Doctor \\nBelknap's office gives way to something else now.\\n\\nWALT\\nTwo years.\\n\\nHe says it barely audibly. It's like the clouds have \\nparted.\\n\\nThe situation has finally, truly registered in Walt's \\nbrain.\\n\\n\\n\\n25.\\n\\nEXT. WHITE HOUSE - DAWN35 35\\n\\nEarly morning. A faint glow in the sky. Silence except for \\nthe THWACK ... THWACK of the NEWSPAPER GUY driving past.\\n\\nINT. WHITE HOUSE - KITCHEN - DAWN36 36\\n\\nwalt sits alone at the kitchen table, staring into space.\\n\\nDeep in thought. Considering something carefully. He rises, \\npicks up the phone and dials. Keeps his voice low.\\n\\nWALT\\nHank? Hey, it's Walt. I didn't wake\\nyou, did I?\\n\\n(a beat)\\nGood. Listen, I've been thinking.\\nCould I take you up on your offer?\\nThe ride-along?\\n\\nCUT TO:\\n\\nEXT. BLUE-COLLAR NEIGHBORHOOD - MORNING37 37\\n\\nA different morning -- these things take time to set up.\\n\\nWe're in a neighborhood not unlike Walt's. A non-descript\",\n",
      "      \"title\": \"BREAKING_BAD_-_PILOT.pdf\"\n",
      "    },\n",
      "    {\n",
      "      \"@search.score\": 0.84088033,\n",
      "      \"chunk\": \"Let me\\nlook into that. Thank you.\\n\\nWalt enters, hearing the tail-end. Skyler hangs up.\\n\\nSKYLER\\nYou're home early.\\n\\nWalt nods, finds a beer in the fridge. His fingers tremble \\na little as he pries off the cap. Skyler doesn't notice --\\n\\nshe's sifting through a stack of bills.\\n\\nWalt sits at the table. He drinks deep, rubs his mouth.\\n\\nSKYLER\\nHow was your day?\\n\\nWALT\\nYou know. Same.\\n\\nSKYLER\\nDon't tell me Amir's sending you\\nhome at five now.\\n\\n\\n\\n23.\\n\\nWALT\\nNo, just. Today.\\n\\nSKYLER\\n(studying a bill)\\n\\nDid you use the MasterCard last\\nmonth? $15.88 at Staples?\\n\\nWALT\\nUh. We needed printer paper.\\n\\nSKYLER\\nWalt, the MasterCard's the one we\\ndon't use.\\n\\nWalt nods, overwhelmed and hiding it. Skyler doesn't know \\nabout his doctor's appointment. Even if Walt wants to tell \\nher, something stops him. He sips his beer, stares.\\n\\nLoud MACHINE GUN FIRE startles them both. Skyler yells into \\nthe living room.\\n\\nSKYLER\\nDAMMIT, WALTER! TURN THAT DOWN!\\n\\n(more GUNFIRE)\\nGo talk to him.\\n\\nWalt rises, sets his bottle in the sink.\\n\\nINT. WHITE HOUSE - LIVING ROOM - CONTINUOUS32 32\\n\\nThe end of \\\"Scarface\\\" plays on the TV. TONY MONTANA, with \\nhis mountain of cocaine and his M-16, takes on all comers.\\n\\nWalter, Jr. is sprawled on the couch, watching. His \\ncrutches are leaned against the armrest.\\n\\nWALTER, JR.\\nHey.\\n\\nWALT\\nHey.\\n\\n(watches TV, remembers)\\nYour Mom wants you to turn it down.\\n\\nWALTER, JR.\\nShit, come--on. This is--the best--\\nWait, wait ...\\n\\nTONY MONTANA (ON TV)\\nCOME AN' MEET MY LEETLE FRIEND!\\n\\n\\n\\n24.\\n\\nWALTER, JR.\\nOh--damn! Hell, yeah!\\n\\nWalter, Jr. awkwardly pumps his fist. Walt keeps watching.\\n\\nWALT\\nDVD?\\n\\nWALTER, JR.\\n(nods)\\n\\nUncle Hank--gave--it to me.\\n\\nWalt's eyes stay on the screen. The garish little kingpin \\nmows down acres of Columbians, then dies in a blaze of \\nglory.\\n\\nOff Walt, whose thoughts are unknown to us ...\\n\\nINT. WHITE HOUSE - MASTER BEDROOM - NIGHT33 33\\n\\nGlowing blue numbers project on the cottage cheese ceiling: \\n4:26 AM. Walt lies awake beside his sleeping wife.\",\n",
      "      \"title\": \"BREAKING_BAD_-_PILOT.pdf\"\n",
      "    },\n",
      "    {\n",
      "      \"@search.score\": 0.8396399,\n",
      "      \"chunk\": \"H. White.\\\"\\n\\nWalt stares at his own name on the plaque. We can't read \\nhis thoughts, but we can guess at them.\\n\\nEXT. CALTECH CAMPUS - COFFEE STAND - DAY25 25\\n\\nAn outdoor snack bar. Walt sits alone. Around him, young \\nSTUDENTS pore over textbooks or quietly type on laptops.\\n\\nWalt sips his coffee and stares into space.\\n\\nAt the nearest table, a CHINESE GUY sits with two CHINESE \\nGIRLS. They're laughing and talking in CANTONESE. They keep \\ntheir voices low so their gossip might not be overheard --\\n\\nbut it's not like we have any idea what they're saying.\\n\\nWalt takes another sip of coffee, carefully sets down the \\ncup. He looks at his hand for a long moment.\\n\\nHe notices his fingers are TREMBLING slightly. He makes a \\nfist, squeezes it tight. Opens it.\\n\\n\\n\\n18.\\n\\nThe Asian students are talking a mile-a-minute, the two \\ngirls giggling. walt glances at them, looks back to his \\nhand. He presses it flat against the tabletop.\\n\\nUP-ANGLE -- as seen through this GLASS TOP TABLE, Walt's \\nfingers stick to the surface. They pull loose with a slow, \\ngluey SLURP.\\n\\nCLOSER on Walt. He rubs his mouth, sneaks his fingertips to \\nhis carotid artery just under his ear. He's feeling his \\npulse. The furtive whispering in CHINESE fills his head.\\n\\nHe's starting to breathe faster.\\n\\nHis cellphone RINGS. He glances at the readout screen.\\n\\n\\\"HOME,\\\" it says. Walt silences it, tucks the phone back in \\nhis pocket.\\n\\nRapid-fire CHINESE is all we hear. Now it gets drowned out \\nby a sudden WHOOSH that makes Walt blink. It's the whoosh \\nof the nearby cappuccino machine. It's unnaturally loud, \\nlike a jet engine. Walt's had enough. Time to go.\\n\\nHIGH ANGLE - DOWN THROUGH THE TREES\\n\\nMagnolia leaves sway in f.g. We're looking down at Walt, \\ntiny in the distance, as he rises to his feet. He makes it \\nthree steps before he COLLAPSES, flipping an empty table.\\n\\nStudents look up, hesitate. The Chinese guy and a couple of \\nothers rise to help. Off Walt, lying on his face ...\\n\\nEND ACT ONE\\n\\nACT TWO\",\n",
      "      \"title\": \"BREAKING_BAD_-_PILOT.pdf\"\n",
      "    }\n",
      "  ]\n",
      "}\n"
     ]
    }
   ],
   "source": [
    "# Replace these placeholders with your actual values\n",
    "aais_base_url = \"https://YOUR_SEARCH_URL.search.windows.net/\"\n",
    "aais_index_name = \"YOUR_INDEX_NAME\"\n",
    "aais_api_key = \"YOUR_API_KEY\"\n",
    "aais_api_version = \"2024-03-01-Preview\"\n",
    "aais_index_vector_field = \"YOUR_VECTOR_FIELD_NAME\"\n",
    "\n",
    "\n",
    "# The URL for the request\n",
    "url = f\"{aais_base_url}/indexes/{aais_index_name}/docs/search?api-version={aais_api_version}\"\n",
    "\n",
    "# The headers for the request\n",
    "headers = {\n",
    "    \"Content-Type\": \"application/json\",\n",
    "    \"api-key\": aais_api_key\n",
    "}\n",
    "\n",
    "# The body of the request\n",
    "body = {\n",
    "    \"count\": True,\n",
    "    \"select\": \"title, chunk\", # other fields to return may go here\n",
    "    \"vectorQueries\": [\n",
    "        {\n",
    "            \"kind\": \"vector\",\n",
    "            \"vector\": embedding,\n",
    "            \"exhaustive\": True,\n",
    "            \"fields\":aais_index_vector_field,\n",
    "            \"k\": 5\n",
    "        }\n",
    "    ]\n",
    "}\n",
    "\n",
    "# Make the POST request\n",
    "response = requests.post(url, headers=headers, data=json.dumps(body))\n",
    "\n",
    "# Check the response\n",
    "if response.status_code == 200:\n",
    "    print('Request successful!')\n",
    "    json_response = response.json()\n",
    "    json_str = json.dumps(json_response, indent=2)\n",
    "    # Print the response\n",
    "    print(json_str)\n",
    "else:\n",
    "    print('Request failed!')\n",
    "    print(response.text)\n"
   ]
  }
 ],
 "metadata": {
  "kernelspec": {
   "display_name": "Python 3",
   "language": "python",
   "name": "python3"
  },
  "language_info": {
   "codemirror_mode": {
    "name": "ipython",
    "version": 3
   },
   "file_extension": ".py",
   "mimetype": "text/x-python",
   "name": "python",
   "nbconvert_exporter": "python",
   "pygments_lexer": "ipython3",
   "version": "3.11.9"
  }
 },
 "nbformat": 4,
 "nbformat_minor": 2
}
