{
 "cells": [
  {
   "cell_type": "markdown",
   "metadata": {},
   "source": [
    "installing required packages"
   ]
  },
  {
   "cell_type": "code",
   "execution_count": 3,
   "metadata": {},
   "outputs": [
    {
     "name": "stdout",
     "output_type": "stream",
     "text": [
      "Requirement already satisfied: requests in c:\\users\\juhyunlee\\workspace\\notebooks\\basic-vector-search\\.venv\\lib\\site-packages (2.31.0)\n",
      "Requirement already satisfied: charset-normalizer<4,>=2 in c:\\users\\juhyunlee\\workspace\\notebooks\\basic-vector-search\\.venv\\lib\\site-packages (from requests) (3.3.2)\n",
      "Requirement already satisfied: idna<4,>=2.5 in c:\\users\\juhyunlee\\workspace\\notebooks\\basic-vector-search\\.venv\\lib\\site-packages (from requests) (3.7)\n",
      "Requirement already satisfied: urllib3<3,>=1.21.1 in c:\\users\\juhyunlee\\workspace\\notebooks\\basic-vector-search\\.venv\\lib\\site-packages (from requests) (2.2.1)\n",
      "Requirement already satisfied: certifi>=2017.4.17 in c:\\users\\juhyunlee\\workspace\\notebooks\\basic-vector-search\\.venv\\lib\\site-packages (from requests) (2024.2.2)\n"
     ]
    }
   ],
   "source": [
    "! pip install requests"
   ]
  },
  {
   "cell_type": "code",
   "execution_count": 2,
   "metadata": {},
   "outputs": [],
   "source": [
    "import requests\n",
    "import json\n",
    "from dotenv import load_dotenv\n",
    "load_dotenv(\"local.env\", override=True)\n",
    "import os\n",
    "\n",
    "# Azure OpenAI Related\n",
    "aoai_api_key = os.getenv(\"AZURE_OPENAI_KEY\")\n",
    "aoai_api_base_url = os.getenv(\"AZURE_OPENAI_ENDPOINT\")\n",
    "aoai_embedding_deployment_name = os.getenv(\"AZURE_OPENAI_EMBEDDING_DEPLOYMENT\")\n",
    "aoai_chat_deployment_name = os.getenv(\"AZURE_OPENAI_CHAT_DEPLOYMENT\")\n",
    "aoai_api_version = os.getenv(\"AZURE_OPENAI_API_VERSION\")\n",
    "\n",
    "# Azure AI Search Related\n",
    "search_api_key = os.getenv(\"AZURE_SEARCH_ADMIN_KEY\")\n",
    "search_api_endpoint = os.getenv(\"AZURE_SEARCH_SERVICE_ENDPOINT\")\n",
    "search_api_version = os.getenv(\"AZURE_SEARCH_API_VERSION\")"
   ]
  },
  {
   "cell_type": "markdown",
   "metadata": {},
   "source": [
    "Calling Azure OpenAI LLM"
   ]
  },
  {
   "cell_type": "code",
   "execution_count": 10,
   "metadata": {},
   "outputs": [
    {
     "name": "stdout",
     "output_type": "stream",
     "text": [
      "https://jhl-aoai-west.openai.azure.com/openai/deployments/jhl-gpt4-1106/chat/completions?api-version=2024-04-01-preview\n",
      "Request successful!\n",
      "{\n",
      "  \"id\": \"92a79871-e6e7-4b9d-8f20-03dd034a3f0e\",\n",
      "  \"model\": \"gpt-4\",\n",
      "  \"created\": 1715115570,\n",
      "  \"object\": \"extensions.chat.completion\",\n",
      "  \"choices\": [\n",
      "    {\n",
      "      \"index\": 0,\n",
      "      \"finish_reason\": \"stop\",\n",
      "      \"message\": {\n",
      "        \"role\": \"assistant\",\n",
      "        \"content\": \"The deductible for the Northwind Health Plus plan is $2,000 per year [doc1]. Additionally, there is a calendar year deductible for in-network services, which is $1,500 for individuals and $3,000 for families [doc2][doc5]. It's important to note that these amounts are specific to the plan's coverage for in-network services and that the calendar year deductible is reset each year on the plan's renewal date [doc5].\",\n",
      "        \"end_turn\": true,\n",
      "        \"context\": {\n",
      "          \"citations\": [\n",
      "            {\n",
      "              \"content\": \"their coverage, they should contact their employer or the Workers\\u2019 Compensation \\n\\nInsurance provider for more information. \\n\\nDEFINITIONS \\nDefinitions  \\n\\nIt is important for employees to understand the definitions of certain terms when it comes \\n\\nto their health insurance plan. The following definitions will help employees obtain a better \\n\\nunderstanding of Northwind Health Plus.  \\n\\nCopayment: A copayment, also known as a copay, is the fixed amount that an employee pays \\n\\nfor a covered service. This amount is usually a flat fee and is due at the time of service.  \\n\\n\\n\\nDeductible: A deductible is the amount of money that an employee must pay out-of-pocket \\n\\nbefore the plan begins paying for covered services. Northwind Health Plus has a deductible \\n\\nof $2,000 per year.  \\n\\nCoinsurance: Coinsurance is the percentage of the cost of a covered service that an \\n\\nemployee must pay after the deductible is met. Northwind Health Plus has a coinsurance of \\n\\n20%.  \\n\\nOut-of-Pocket Maximum: The out-of-pocket maximum is the maximum amount of money \\n\\nthat an employee has to pay for covered services in a plan year. This amount includes the \\n\\ndeductible, coinsurance, and copayments. Northwind Health Plus has an out-of-pocket \\n\\nmaximum of $4,000 per year.  \\n\\nIn-Network Provider: An in-network provider is a health care provider or facility that is \\n\\ncontracted with the insurance company. Employees who use an in-network provider will \\n\\nhave lower copayments and coinsurance amounts than those who use an out-of-network \\n\\nprovider.  \\n\\nOut-of-Network Provider: An out-of-network provider is a health care provider or facility \\n\\nthat is not contracted with the insurance company. Employees who use an out-of-network \\n\\nprovider will have higher copayments and coinsurance amounts than those who use an in-\\n\\nnetwork provider.  \\n\\nExceptions  \\n\\nNorthwind Health Plus does have some exceptions to the rules regarding copayments, \\n\\ndeductibles, coinsurance, and out-of-pocket maximums.\\naHR0cHM6Ly9qdWh5dW5sZWVzdG9yYWdlLmJsb2IuY29yZS53aW5kb3dzLm5ldC9jb250b3NvLW5vcnRod2luZC9Ob3J0aHdpbmRfSGVhbHRoX1BsdXNfQmVuZWZpdHNfRGV0YWlscy5wZGY1\",\n",
      "              \"title\": \"Northwind_Health_Plus_Benefits_Details.pdf\",\n",
      "              \"url\": null,\n",
      "              \"filepath\": null,\n",
      "              \"chunk_id\": \"0\"\n",
      "            },\n",
      "            {\n",
      "              \"content\": \"the office staff that you are a Northwind \\n\\nHealth Plus member. This will ensure that the staff bills your insurance correctly and that \\n\\nyou are charged the correct amount for your copay.  \\n\\nIf you have any questions about your copay amount, you can contact Northwind Health's \\n\\ncustomer service team. They will be able to provide more detailed information about your \\n\\ncoverage and copay amount.  \\n\\nIt is important to remember that the split copay only applies to office visits. Other services, \\n\\nsuch as lab tests, X-rays, and imaging tests, are subject to different copay amounts, which \\n\\nare listed on your insurance card.  \\n\\nIt is also important to remember that the split copay only applies to in-network providers. If \\n\\nyou visit an out-of-network provider, you will be subject to a higher copay amount, which is \\n\\nalso listed on your insurance card.  \\n\\nAt Northwind Health Plus, we are committed to helping our members get the care they need \\n\\nat a price they can afford. With the split copay for office visits, we hope to make healthcare \\n\\nmore affordable for you and your family. \\n\\n\\n\\nCalendar Year Deductible \\n\\nIMPORTANT PLAN INFORMATION: Calendar Year Deductible \\n\\nThe Northwind Health Plus plan has a calendar year deductible that applies to some \\n\\nservices. The amount you must pay out-of-pocket before the plan begins to pay for covered \\n\\nservices is called the calendar year deductible. The calendar year deductible is the same for \\n\\nall members of the plan and is reset each year on the plan's renewal date.  \\n\\nFor In-Network Services: The calendar year deductible for in-network services is $1,500 for \\n\\nindividuals and $3,000 for families. This means that you must pay the full cost of all covered \\n\\nservices until you have paid a total of $1,500 for an individual and $3,000 for a family. Once \\n\\nthis amount is reached, the plan will begin to pay its share of the cost of eligible services.\\naHR0cHM6Ly9qdWh5dW5sZWVzdG9yYWdlLmJsb2IuY29yZS53aW5kb3dzLm5ldC9jb250b3NvLW5vcnRod2luZC9Ob3J0aHdpbmRfSGVhbHRoX1BsdXNfQmVuZWZpdHNfRGV0YWlscy5wZGY1\",\n",
      "              \"title\": \"Northwind_Health_Plus_Benefits_Details.pdf\",\n",
      "              \"url\": null,\n",
      "              \"filepath\": null,\n",
      "              \"chunk_id\": \"0\"\n",
      "            },\n",
      "            {\n",
      "              \"content\": \"that all payments are subject to the terms and conditions of the plan, \\n\\nincluding any applicable copayments, coinsurance, and deductible amounts. Members \\n\\nshould always check with their health care provider to determine if a service is covered \\n\\nunder the plan and the amount that will be paid for the service.  \\n\\nIt is also important to note that Northwind Health Plus does not pay for any services that \\n\\nare not medically necessary. Any services that are deemed to be for cosmetic purposes, \\n\\nexperimental treatments, or not medically necessary will not be covered under the plan.  \\n\\nMembers should also keep in mind that the plan may not cover certain services if the \\n\\nmember has not met certain requirements, such as obtaining a referral from a primary care \\n\\nphysician or pre-authorization from Northwind Health Plus.  \\n\\nFinally, Northwind Health Plus may require pre-certification or pre-authorization for \\n\\ncertain services. It is the responsibility of the member to ensure that pre-certification or \\n\\npre-authorization is obtained prior to receiving services. Failure to obtain pre-certification \\n\\nor pre-authorization may result in the member being responsible for the full cost of the \\n\\nservices.  \\n\\nIn summary, Northwind Health Plus provides comprehensive coverage for medical, vision, \\n\\nand dental services, as well as prescription drug coverage, mental health and substance \\n\\nabuse coverage, and coverage for preventive care services. The plan pays for covered \\n\\nservices after the member has met the annual deductible, up to the maximum out-of-pocket \\n\\nlimit. The plan may also pay for services that are not listed in the plan documents, if the \\n\\nhealth care provider determines that such services are medically necessary. It is important \\n\\nto note that all payments are subject to the terms and conditions of the plan, and that \\n\\n\\n\\nmembers should always check with their health care provider to determine if a service is\\naHR0cHM6Ly9qdWh5dW5sZWVzdG9yYWdlLmJsb2IuY29yZS53aW5kb3dzLm5ldC9jb250b3NvLW5vcnRod2luZC9Ob3J0aHdpbmRfSGVhbHRoX1BsdXNfQmVuZWZpdHNfRGV0YWlscy5wZGY1\",\n",
      "              \"title\": \"Northwind_Health_Plus_Benefits_Details.pdf\",\n",
      "              \"url\": null,\n",
      "              \"filepath\": null,\n",
      "              \"chunk_id\": \"0\"\n",
      "            },\n",
      "            {\n",
      "              \"content\": \"preventive care services, at the rates specified in the plan documents. \\n\\n\\n\\nThe plan pays for covered services only after the member has met their annual deductible. \\n\\nThe plan pays for covered services after the member has met the annual deductible, up to \\n\\nthe maximum out-of-pocket limit. The maximum out-of-pocket limit will be specified in the \\n\\nplan documents. For covered services, Northwind Health Plus pays either a percentage of \\n\\nthe cost or a fixed dollar amount, whichever is less.  \\n\\nNorthwind Health Plus also pays for services that are not listed in the plan documents, if the \\n\\nhealth care provider determines that such services are medically necessary. This includes \\n\\nservices that are not covered under the plan, such as experimental treatments and services \\n\\nfor cosmetic purposes.  \\n\\nNorthwind Health Plus also pays for emergency services, both in-network and out-of-\\n\\nnetwork. To be eligible for coverage, the emergency must meet certain criteria, as specified \\n\\nin the plan documents. If the emergency services do not meet the criteria, the member may \\n\\nbe responsible for the full cost of the services.  \\n\\nIn addition, Northwind Health Plus may pay for services that are not covered under the \\n\\nplan, if the health care provider determines that such services are medically necessary. The \\n\\nplan will pay for these services at the rates specified in the plan documents.  \\n\\nIt is important to note that all payments are subject to the terms and conditions of the plan, \\n\\nincluding any applicable copayments, coinsurance, and deductible amounts. Members \\n\\nshould always check with their health care provider to determine if a service is covered \\n\\nunder the plan and the amount that will be paid for the service.  \\n\\nIt is also important to note that Northwind Health Plus does not pay for any services that \\n\\nare not medically necessary. Any services that are deemed to be for cosmetic purposes,\\naHR0cHM6Ly9qdWh5dW5sZWVzdG9yYWdlLmJsb2IuY29yZS53aW5kb3dzLm5ldC9jb250b3NvLW5vcnRod2luZC9Ob3J0aHdpbmRfSGVhbHRoX1BsdXNfQmVuZWZpdHNfRGV0YWlscy5wZGY1\",\n",
      "              \"title\": \"Northwind_Health_Plus_Benefits_Details.pdf\",\n",
      "              \"url\": null,\n",
      "              \"filepath\": null,\n",
      "              \"chunk_id\": \"0\"\n",
      "            },\n",
      "            {\n",
      "              \"content\": \"year deductible is the same for \\n\\nall members of the plan and is reset each year on the plan's renewal date.  \\n\\nFor In-Network Services: The calendar year deductible for in-network services is $1,500 for \\n\\nindividuals and $3,000 for families. This means that you must pay the full cost of all covered \\n\\nservices until you have paid a total of $1,500 for an individual and $3,000 for a family. Once \\n\\nthis amount is reached, the plan will begin to pay its share of the cost of eligible services.  \\n\\nFor Out-of-Network Services: The plan does not have a calendar year deductible for out-of-\\n\\nnetwork services. However, out-of-network services are subject to higher cost sharing than \\n\\nin-network services, so be sure to check with your provider to find out the cost sharing that \\n\\napplies.  \\n\\nExceptions: Certain services are exempt from the calendar year deductible. These services \\n\\ninclude preventive care services and emergency services.  \\n\\nTips:  \\n\\n\\u2022 Be sure to check with your provider to find out if a service is subject to the calendar \\n\\nyear deductible before receiving the service.  \\n\\n\\u2022 Make sure you understand the cost sharing that applies to out-of-network services.  \\n\\n\\u2022 Be aware that the calendar year deductible is reset each year on the plan\\u2019s renewal \\n\\ndate.  \\n\\n\\u2022 Remember that preventive care services and emergency services are exempt from \\n\\nthe calendar year deductible. \\n\\nCoinsurance \\n\\nIMPORTANT PLAN INFORMATION: Coinsurance  \\n\\nCoinsurance is a cost-sharing requirement under Northwind Health Plus. This means that \\n\\nafter you have met your deductible, you will be responsible for a certain percentage of the \\n\\ncosts for covered services. The coinsurance rate is usually a percentage of the allowed \\n\\namount for a service, and it is your responsibility to pay this amount.  \\n\\nFor example, if the allowed amount for a service is $100 and your coinsurance is 20%, you \\n\\nare responsible for paying $20 (20% of $100). The insurance company will pay the\\naHR0cHM6Ly9qdWh5dW5sZWVzdG9yYWdlLmJsb2IuY29yZS53aW5kb3dzLm5ldC9jb250b3NvLW5vcnRod2luZC9Ob3J0aHdpbmRfSGVhbHRoX1BsdXNfQmVuZWZpdHNfRGV0YWlscy5wZGY1\",\n",
      "              \"title\": \"Northwind_Health_Plus_Benefits_Details.pdf\",\n",
      "              \"url\": null,\n",
      "              \"filepath\": null,\n",
      "              \"chunk_id\": \"0\"\n",
      "            }\n",
      "          ],\n",
      "          \"intent\": \"[\\\"Health Plan Plus deductible cost\\\", \\\"What is the deductible for Health Plan Plus?\\\", \\\"Health insurance Health Plan Plus deductible amount\\\"]\"\n",
      "        }\n",
      "      }\n",
      "    }\n",
      "  ],\n",
      "  \"usage\": {\n",
      "    \"prompt_tokens\": 5437,\n",
      "    \"completion_tokens\": 120,\n",
      "    \"total_tokens\": 5557\n",
      "  },\n",
      "  \"system_fingerprint\": \"fp_1402c60a5a\"\n",
      "}\n"
     ]
    },
    {
     "ename": "",
     "evalue": "",
     "output_type": "error",
     "traceback": [
      "\u001b[1;31mThe Kernel crashed while executing code in the current cell or a previous cell. \n",
      "\u001b[1;31mPlease review the code in the cell(s) to identify a possible cause of the failure. \n",
      "\u001b[1;31mClick <a href='https://aka.ms/vscodeJupyterKernelCrash'>here</a> for more info. \n",
      "\u001b[1;31mView Jupyter <a href='command:jupyter.viewOutput'>log</a> for further details."
     ]
    }
   ],
   "source": [
    "search_index_name = \"contoso-northwind\"\n",
    "\n",
    "# Define the URL of the API endpoint\n",
    "url = f\"{aoai_api_base_url}openai/deployments/{aoai_chat_deployment_name}/chat/completions?api-version={aoai_api_version}\"\n",
    "print(url)\n",
    "# Define the headers, including the API key\n",
    "headers = {\n",
    "    'Content-Type': 'application/json',\n",
    "    'api-key': aoai_api_key\n",
    "}\n",
    "\n",
    "# Define the JSON body of the request\n",
    "body = {\n",
    "    \"messages\": [\n",
    "        {\"role\": \"system\", \"content\": \"You are a helpful assistant that answer only within provided data.\"},\n",
    "        {\"role\": \"user\", \"content\": \"How much is the deductible for health plan plus?\"}\n",
    "    ],\n",
    "    \"data_sources\": [\n",
    "        {\n",
    "            \"type\": \"azure_search\",\n",
    "            \"parameters\": {\n",
    "                \"endpoint\": search_api_endpoint,\n",
    "                \"index_name\": search_index_name,\n",
    "                \"authentication\": {\n",
    "                    \"type\": \"api_key\",\n",
    "                    \"key\": search_api_key\n",
    "                }\n",
    "            }\n",
    "        }\n",
    "    ]\n",
    "}\n",
    "\n",
    "# Convert the payload to a JSON string\n",
    "str_body = json.dumps(body)\n",
    "\n",
    "# Make the POST request with the headers and JSON body\n",
    "response = requests.post(url, headers=headers, data=str_body)\n",
    "\n",
    "# Check the response\n",
    "if response.status_code == 200:\n",
    "    print('Request successful!')\n",
    "    json_response = response.json()\n",
    "    print(json.dumps(json_response, indent=2))\n",
    "else:\n",
    "    print('Request failed!')\n",
    "    print(response.text)\n",
    "\n"
   ]
  }
 ],
 "metadata": {
  "kernelspec": {
   "display_name": "Python 3",
   "language": "python",
   "name": "python3"
  },
  "language_info": {
   "codemirror_mode": {
    "name": "ipython",
    "version": 3
   },
   "file_extension": ".py",
   "mimetype": "text/x-python",
   "name": "python",
   "nbconvert_exporter": "python",
   "pygments_lexer": "ipython3",
   "version": "3.11.9"
  }
 },
 "nbformat": 4,
 "nbformat_minor": 2
}
