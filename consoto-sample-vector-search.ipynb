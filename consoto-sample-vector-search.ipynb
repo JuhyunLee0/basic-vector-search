{
 "cells": [
  {
   "cell_type": "markdown",
   "metadata": {},
   "source": [
    "installing required packages"
   ]
  },
  {
   "cell_type": "code",
   "execution_count": null,
   "metadata": {},
   "outputs": [],
   "source": [
    "! pip install -r requirements.txt"
   ]
  },
  {
   "cell_type": "code",
   "execution_count": 21,
   "metadata": {},
   "outputs": [],
   "source": [
    "import requests\n",
    "import json\n",
    "from dotenv import load_dotenv\n",
    "load_dotenv(\"local.env\", override=True)\n",
    "import os\n",
    "\n",
    "# Azure OpenAI Related\n",
    "aoai_api_key = os.getenv(\"AZURE_OPENAI_KEY\")\n",
    "aoai_api_base_url = os.getenv(\"AZURE_OPENAI_ENDPOINT\")\n",
    "aoai_embedding_deployment_name = os.getenv(\"AZURE_OPENAI_EMBEDDING_DEPLOYMENT\")\n",
    "aoai_api_version = os.getenv(\"AZURE_OPENAI_API_VERSION\")\n",
    "\n",
    "# Azure AI Search Related\n",
    "search_api_key = os.getenv(\"AZURE_SEARCH_ADMIN_KEY\")\n",
    "search_api_endpoint = os.getenv(\"AZURE_SEARCH_SERVICE_ENDPOINT\")\n",
    "search_api_version = os.getenv(\"AZURE_SEARCH_API_VERSION\")"
   ]
  },
  {
   "cell_type": "markdown",
   "metadata": {},
   "source": [
    "generating embedding from Azure OpenAI Rest API"
   ]
  },
  {
   "cell_type": "code",
   "execution_count": 25,
   "metadata": {},
   "outputs": [
    {
     "name": "stdout",
     "output_type": "stream",
     "text": [
      "Request successful!\n",
      "[0.024826122, 0.0069515803, 0.026662137, -0.019783732, -0.04071165, 0.029695554, -0.028711025, -0.035788998, -0.027247533, 0.009419558, 0.024107682, 0.039753728, -0.017109536, 0.007862936, 0.0074571497, 0.012758977, 0.026741965, -0.020369127, 0.021952359, 0.00020112601, -0.028498152, 0.012067145, -0.025690911, 0.028524762, 0.0056610475, 0.009851952, 0.023216283, -0.010756656, -0.0023681938, -0.0119607095, 0.04092452, 0.011129181, -0.020635217, -0.013590505, -0.0022118664, 0.032702364, -0.0061133993, 6.7821566e-05, 0.021167396, -0.015326737, 0.025132125, 0.014661515, 0.013011762, -0.0040578605, -0.0074172365, 0.012685803, 0.020302605, -0.0018476569, -0.023176368, -0.00076874834, -0.004709779, 0.007929458, -0.035629343, 0.0006340407, -0.012898674, -0.008069155, 0.0030134602, -0.009532645, 0.017335711, -0.006386141, 0.012572714, -0.017588496, -0.015180388, 0.011302139, -0.025797348, 0.0001750368, 0.012991805, 0.011548271, -0.026010219, 0.0066954694, 0.026329527, 0.037092835, 0.0024862709, -0.03773145, 0.009113555, -0.022391407, -0.0014859418, -0.018400067, 0.01712284, 0.0018426677, 0.021912446, 0.0020355824, -0.007929458, -0.005241957, 0.026861705, -0.013537288, -0.0022085404, 0.032462884, -0.0069848415, 0.005953746, 0.016244745, 0.007676673, 0.029695554, 0.01127553, 0.010690133, 0.02389481, -0.014275686, -0.0005521351, 0.0074970634, -0.014355512, -0.010337565, 0.016750315, -0.03645422, -0.0077698044, -0.015300129, -0.006110073, 0.004167622, -0.0051288693, 0.015765784, -0.012280016, -0.021899141, 0.020289302, -0.0024762927, -0.035070557, -0.0026226416, -0.01273902, 0.019717209, 0.0025511303, -0.014262381, 0.0005941273, 0.016005265, 0.0054282197, 0.027992584, 0.015632741, 0.02067513, -0.021220613, 0.0006219835, -0.00083485484, 0.0028222085, -0.0036354437, 0.0075569334, -0.000926323, 0.019171726, 0.015712567, -0.008268721, 0.03842328, -0.0064626415, 0.017442146, -0.035655953, -0.0008294499, 0.017827976, 0.0025644347, -0.009113555, 0.010018258, 0.0075170198, 0.013597158, 0.015300129, 0.010444001, 0.015672654, -0.020355824, -0.0074571497, 0.00051097444, 0.008528159, -0.0060368986, 0.00038416628, 0.02696814, -0.0042740577, 8.455608e-05, -0.012173581, 0.0054847635, -0.009559254, 0.0065790555, 0.025717521, -0.001907527, -0.0038948806, 0.013504026, 0.0021786054, 0.006133356, -0.0026542398, 0.00972556, -0.017282493, 0.041217215, 0.001300511, 0.013969683, 0.015765784, 0.0061133993, -0.00398136, -0.018679462, -0.031105828, -0.010217825, -0.0020888003, 0.012353191, 0.0059504197, 0.019424511, -0.026116654, -0.009891866, 0.007783109, -0.00434058, -0.010397435, 0.0035788997, -0.0034757901, 0.02231158, -0.015047344, -0.007058016, -0.6637329, 0.0060568554, 0.01592544, -0.016058482, 0.013071632, 0.011548271, 0.031638004, 0.019916777, -0.046964742, 0.009692299, 0.022231752, 0.006043551, -0.005118891, -0.015127171, 0.002404781, -0.02687501, 0.0041343607, -0.002807241, -0.023775069, 0.005837332, 0.008521507, 0.0029352964, -0.033394195, -0.004709779, 0.011707924, 0.015619436, -0.01047061, -0.011368661, 0.0073640184, 0.0057442007, 0.0034857686, 0.004749692, 0.0070713204, 0.013417548, 0.012359844, -0.0046765176, 0.0048827366, 0.001559948, -0.0007712429, 0.025970306, -0.045421425, 0.002685838, -0.0021203982, -0.017788064, -0.013889856, -0.00010139454, 0.007776457, 0.023109848, 0.022684105, 0.015632741, -0.0064593153, 0.015473086, -0.0029668945, 0.006708774, 0.0106967855, 0.012925283, 0.023469068, -0.016484225, 0.0068085575, -0.005468133, 0.01810737, 0.00021848417, -0.03185088, -0.013650375, -0.008661203, -0.0016871719, -0.017615104, 0.0340062, 0.022151927, 0.0039680554, 0.010370826, 0.032702364, 0.006426054, -0.012333235, 0.04808232, -0.012067145, 0.0065823817, -0.02034252, -0.0071311905, 0.03057365, 0.004417081, -0.005471459, -0.0132845035, 0.00832194, -0.0019324728, -0.024466902, -0.001416925, -0.011222312, 0.026835095, 0.0018376785, 0.02497247, 0.022005577, 0.025557868, -0.03645422, -0.017109536, 0.0011633087, -0.01697649, 0.0029984927, -0.004779627, -0.00416097, -0.016111702, 0.007590194, -0.015379956, 0.012173581, 0.030759912, 0.011727882, -0.020169562, 0.0006988999, 0.044463504, -0.027487013, 0.02019617, 0.0069648847, -0.01452847, 0.025065603, -0.008035894, -0.017894499, 0.016098397, 0.01945112, 0.0067886007, -0.008228809, 0.017415538, 0.010656873, 0.029935034, -0.023069933, 0.03863615, 0.006053529, 0.0041011, 0.0012963533, 0.015739176, -0.012865413, -0.021007743, 0.012705759, -0.015140476, 0.0035788997, 0.0044303853, -0.01416925, 0.002577739, -0.007902849, -0.0038017493, -0.018839115, -0.008168939, -0.013537288, 0.016790228, -0.013617115, -0.023069933, -0.02857798, -0.0006868427, 0.020329215, 0.005401611, 0.044303853, 0.0072376262, -0.03209036, -0.029269813, -0.0011533303, -0.023548894, -0.006299662, 0.0049326285, -0.029855208, -0.01011139, -0.014794559, 0.0055745686, 0.030706692, 0.013144806, -0.009891866, -0.00966569, -0.029695554, 0.011069311, 0.014594993, -0.004603343, -0.019131813, 0.002780632, -0.015872221, 0.011967362, 0.026768573, -0.015020736, -0.007224322, 0.007370671, -0.023655329, -0.0099317795, -0.0069249715, 0.008474941, -0.008015937, 0.0068717534, 0.019677296, 0.005953746, 0.004357211, 3.5288e-05, 0.0063495534, -0.013417548, 0.021766096, -0.01709623, 0.0150340395, 0.02130044, 0.022178534, 0.0033693544, -0.0004118146, 0.01047061, -0.0032462883, 0.023708548, -0.0005130532, 0.04023269, 0.005853962, 0.022497842, 0.022604277, 0.04140348, -0.018147284, 0.0018426677, -0.005697635, 0.0011799393, 0.010297652, 0.000695158, -0.023202978, 0.0029951665, 0.0055712424, -0.0120937545, -0.026648832, -0.013703594, -0.0005729233, 6.91728e-05, 0.012313277, 0.03621474, 0.023415849, 0.047390487, -0.011687968, -0.025557868, -0.015579523, -0.0054814373, 0.031504963, 0.00769663, 0.0114617925, -0.00075087044, -0.014036206, -0.012053841, 0.024120986, 0.029855208, 0.0060568554, -0.028977113, 0.004540147, 0.016697098, 0.007670021, 0.0012988478, 0.006366184, 0.026023524, -0.006286357, -0.0190919, -0.021965664, 0.019690601, 0.0084616365, 0.0020655175, 0.020781565, 0.010330913, 0.004373841, -0.008488245, 0.00844168, 0.0066788387, -0.011242269, -0.008222156, 0.04230818, 0.019477729, 0.013823334, 0.028711025, -0.0016954871, 0.016417703, -0.0065524466, 0.011934101, 0.00060119526, -0.0220721, -0.0013404243, 0.016351182, -0.004955911, 0.011375314, 0.0011890861, -0.015366651, 0.012246755, 0.018160587, 0.020688435, 0.0077897613, 0.012326582, 0.011801056, 0.033553846, -0.008122372, -0.044170808, -0.00030766564, 0.021539921, -0.019530946, -0.0073041483, 0.012173581, 0.0008265396, 0.013823334, 0.038343452, -0.0068384926, 0.015379956, 0.0022384755, 0.0034857686, -0.019464424, -0.021845924, 0.0074371933, 0.0047064526, -0.029456073, -0.020355824, -0.009758822, -0.02046226, -0.014009596, -0.0020788219, 0.017162753, 0.0063728364, -0.0106967855, -0.020754958, 0.023375936, -0.03392637, 0.0069249715, -0.011448488, -0.002113746, 0.0170031, 0.013171415, 0.0097854305, -0.017282493, 0.0014535122, 0.02437377, 0.0067786225, -0.0030267646, -0.011648054, -0.016803533, -0.017854584, 0.054548286, 0.02711449, -0.011242269, 0.012552758, 0.0035389864, 0.015513, 0.0060003116, -0.024174204, 0.017482061, -0.00021869206, 0.0070114504, 0.0075436286, 0.0027240883, 0.005814049, -0.019783732, 0.0077032824, -0.0029585792, -0.007689978, -0.0046166475, -0.01837346, -0.029003723, 0.0130051095, 0.030520432, 0.05316462, -0.0047363876, 0.007197713, 0.015353346, 0.015685959, 0.013264546, 0.002489597, -0.002285041, 0.011601489, -0.017655019, 0.015406565, -0.0047596707, 0.0052486095, -0.015632741, -0.02055539, 0.019344686, 0.007995981, 0.0039447723, 0.025584476, 0.0034525073, 0.0044669723, 0.017721541, -0.028977113, 0.0004889389, 0.0094328625, 0.030653475, 0.00042553485, 0.018719375, 0.0006394456, -0.010131346, -0.017548583, 0.01628466, 0.00022243394, 0.002897046, -0.018333545, -0.012659194, -0.019850254, -0.03155818, -0.028152237, 0.02720762, -0.00065981806, -0.016803533, -0.0007712429, 0.0059437673, 0.0053051533, -0.0036653788, -0.008780943, 0.013876552, -0.014515166, -0.04190905, 0.017681627, 0.02276393, -0.007862936, 0.0076234555, 0.0069848415, 0.017029708, 0.025038993, 0.0064293803, -0.0034325507, 0.0027224252, 0.0014160934, -0.02389481, 0.01589883, -0.01661727, 0.002344911, -0.012027232, 0.03352724, -0.01175449, -0.004659887, 0.014568384, -0.042175137, 0.0022750627, -0.0071511474, -0.002484608, 0.017136144, -0.02706127, -0.0125194965, -0.02670205, -0.0031947335, -0.00918673, -0.00093297526, 0.0048428234, 0.00850155, 0.004629952, 0.004393798, 0.0130051095, -0.029136768, 0.020502172, -0.023136456, -0.0076168035, -0.00856142, 0.018040847, -0.0009479428, 0.01360381, 0.013444156, -0.033128105, 0.016111702, -0.009100251, -0.017056318, 0.022590972, 0.00078163703, -0.046645436, 0.0059969854, -0.0067752963, -0.010803222, -0.020049822, -0.002921992, 0.017801367, 0.0065025548, -0.014874387, -0.015739176, -0.018573025, -0.017468756, -0.019730514, 0.022351492, -0.011355356, 0.00052095274, 0.01601857, 0.015326737, -0.026209787, -0.021539921, 0.0067553394, -0.028285282, -0.018306937, -0.008129025, -0.022590972, 0.012286669, 0.03618813, 0.0135638965, -0.03272897, -0.0040944475, 0.0024147595, 0.017415538, -0.01577909, 0.016431008, 0.009831996, 0.020648522, 0.023136456, -0.026715355, 0.020848088, 0.008694464, -0.007689978, -0.007324105, -0.0035256818, -0.005764157, -0.0020122996, 0.011248921, 0.013437505, 0.0016297963, 0.0077897613, 0.0065790555, -0.005032412, 0.0045767343, -0.0047596707, -0.00036836724, -0.02192575, -0.029722163, 2.8843653e-05, -0.011268877, -0.008967206, -0.0044303853, -0.019251553, -0.015326737, 0.022511147, -0.0013553918, 0.027034663, -0.013943074, 0.004879411, -0.009392949, 0.029030332, -0.012599324, 0.02694153, -0.01774815, -0.026795182, -0.011501705, 0.0045501254, 0.010304304, 0.00048103937, 0.027407188, 0.010936266, 0.0049293023, -0.00960582, -0.009698952, -0.018506505, -0.014461948, -0.008388462, -0.01378342, -0.0061666174, -0.012087102, -0.018333545, -0.0123798, 0.021859227, 0.010856439, -0.008129025, 0.029163375, 0.010424044, -0.008388462, -0.007470454, -0.0036287915, 0.015220302, -0.020275997, 0.017535279, 0.023934724, -0.0118875345, -0.009439514, -0.0032529405, -0.004506886, -0.003178103, 0.012280016, 0.018187197, -0.006199878, -0.006944928, -0.0022600952, -0.002607674, -0.0076168035, -0.031983923, 0.017841281, 0.012413061, 0.021686269, 0.018280327, 0.013823334, 0.015419869, 0.02019617, 0.02929642, 0.0038217062, 0.0027939365, -0.010670177, -0.00341592, -0.015659349, -0.0058506364, 0.024932558, -0.0060003116, -0.017721541, -0.022138622, -0.023522286, -0.019757124, 0.01709623, 0.013171415, 0.027167708, -0.0014743005, 0.03416585, 0.0029253182, -0.009466123, -0.00043863142, 0.0008265396, -0.01053048, 0.022391407, -0.020648522, -0.018040847, 0.0141958585, -0.012433018, -0.011109224, -0.001099281, -0.018679462, 0.0026392723, -0.041217215, 0.00936634, 0.013916465, -0.011847622, -0.046938136, -0.0006344564, 0.00211042, -0.0073041483, -0.014581688, -0.010430696, 0.032622535, -0.0055113724, -0.0054182415, 0.00085023814, 0.0021769423, 0.0035456386, -0.010716743, 0.007590194, -0.0119607095, 0.0068251877, -0.030334169, 0.010756656, 0.0014817843, 0.017628409, -0.030440604, 0.0059803547, 0.005647743, -0.03185088, 0.012160276, 0.010836483, -0.044782814, -0.0104173925, 0.020156257, -0.015739176, 0.012286669, 0.0054149153, 0.0004943438, 0.011914144, 0.005391632, -0.0026110003, -0.02437377, 0.024347162, -3.2455606e-05, -0.0009421221, 0.015845612, 0.002253443, -0.006419402, -0.0012414724, -0.0035456386, -0.007816371, 0.010816526, 0.0062830313, -0.008308635, 0.019491034, -0.002023941, 0.0021619748, -0.026475875, 0.006346227, 0.0007766478, 0.017721541, 0.003788445, -0.013470765, 0.0050224336, 0.017269189, 0.0052752183, -0.009086946, -0.0066189687, -0.022737322, -0.012399756, -0.012878717, -0.02228497, -0.013297807, -0.018785898, 0.035310037, 0.01736232, -0.021207308, -0.01169462, -0.0104905665, -0.0051887394, -0.017694931, -0.017734844, 0.024679773, 0.012572714, 0.021659661, -0.026116654, 0.022724018, 0.0030483843, 0.02612996, -0.0072110174, -0.0031149066, 0.02288367, -0.02067513, -0.011109224, 0.0038715978, -0.024227422, -0.008308635, 0.020515477, 0.014861082, 0.011947405, 0.002404781, -0.017827976, -0.021539921, -0.014302295, -0.005863941, 0.0046665394, 0.02759345, -0.007124538, -0.0050523686, 0.014728037, -0.013045023, 0.0062664007, -0.016909968, -0.007410584, 0.0036886616, -0.012107058, 0.0029635685, -0.013849943, -0.0027723168, -0.017189363, -0.021446789, -0.0150340395, 0.03821041, -0.008920641, 0.006768644, 0.016537443, -0.013291155, -0.0028155562, 0.00035672582, -0.020768262, -0.022218447, 0.009539298, -0.020781565, -0.0136370715, -0.019876864, -0.0184932, -0.0050823037, 0.004570082, -0.015513, -0.0135638965, -0.022777235, 0.014302295, -0.018479895, -0.031744443, 0.02046226, -0.020781565, -0.018626245, 0.022231752, -0.011787752, 0.009093598, -0.014395426, -0.0062597482, 0.0037684883, -0.02610335, -0.017854584, 0.002261758, -0.005641091, 0.0040046424, 0.021247223, 0.21968324, 0.008301983, -0.008767639, 0.0453416, 0.017588496, 0.039833553, 0.0065890336, 0.019570861, -0.020475565, 0.020621913, -0.007876241, -0.009712256, -0.04166957, 0.007077973, -0.010370826, -0.013863247, -0.010191216, 0.004081143, -0.020542085, 0.0072110174, -0.002343248, 0.025038993, 0.0023798354, -0.024107682, -0.007676673, 0.030520432, 0.012685803, 0.0052186744, 0.022724018, 0.011834317, -0.0027839583, -0.016431008, 0.012772282, -0.0069648847, -0.028977113, -0.010550437, -0.025597781, -0.0013570549, 0.051887393, 0.028045801, 0.003178103, 0.0066688606, -0.03645422, -0.00486278, 0.00900712, 0.019663991, 0.00030974444, -0.010038215, 0.008488245, 0.039327983, -0.03746536, -0.0046099955, 0.012173581, 0.022817148, -0.0087410305, -0.01366368, 0.00088142045, -0.021739487, -0.012705759, 0.011668012, 0.0048128883, 0.005182087, -0.02142018, 0.03842328, -0.013277851, 0.0041243825, -0.0015275183, 0.019344686, 0.0012281679, -0.016111702, 0.0006336249, -0.019038683, -0.014541775, -0.020688435, -0.019663991, -0.0018726027, 0.020448955, -0.008694464, 0.007729891, 0.013450809, -0.015459782, 0.012293321, -0.006276379, -0.01613831, 0.000982867, -0.019437816, 0.0031381894, 0.007942762, 0.011568228, 0.0024746296, 0.006515859, -0.015473086, -0.015486391, 0.021393571, 0.0035090514, 0.027992584, -0.0035788997, 0.020741653, -0.015965352, 0.001143352, -0.0060967687, 0.08818196, -0.027047968, 0.0027623384, -0.0088142045, -0.0052386313, 0.002030593, 0.014102727, 0.0069515803, -0.020169562, 0.009925127, -0.010217825, 0.008541463, 0.004829519, 0.007344062, 0.0027124467, -0.02442699, 0.0068651014, -0.03863615, -0.024466902, 0.018453285, -0.037598405, -0.007856283, 0.0047596707, 0.011980666, -0.0060901167, -0.0042441227, -0.0081090685, 0.017708236, -0.0328088, -0.005900528, -0.021500006, 0.019677296, -0.013038371, -0.028764242, 0.0038383366, -0.0077565, -0.020355824, -0.031983923, 0.009266556, -0.006625621, 0.010969527, 0.0026808486, -0.016843446, 0.005009129, -0.041536525, 0.019051986, -0.008854118, -0.016750315, -0.0226708, -0.036321174, -0.027433796, -0.005231979, -0.02732736, 0.013038371, -0.019876864, 0.00012576873, -0.02732736, 0.022697408, -0.035416473, -0.02228497, 0.00019582502, 0.02142018, -0.019876864, -0.035176992, 0.0016672151, -0.17019065, -0.004915998, -0.008481593, -0.008155634, 0.025917089, 0.013996292, -0.008122372, 0.0047629965, -0.0064726197, 0.013836638, 0.022258362, -0.024453597, -0.017615104, 0.009346383, 0.0030217755, -0.034352116, -0.009812039, 0.023628721, -0.00037065393, 0.020848088, 0.03081313, -0.010257739, -0.0034624857, -0.015659349, -0.0046399306, -0.00796272, -0.014382121, 0.030068079, 0.013982987, -0.0065823817, -0.012193537, 0.026076742, -0.004915998, 0.019517643, 0.011135833, -0.011741186, 0.0026924901, 0.0014052836, -0.0020272671, 0.014900995, 0.012639237, 0.0034791164, -0.0024446945, 0.0034857686, -0.02461325, 0.03209036, 0.012552758, 0.00021110436, 0.008627942, -0.003645422, 0.024027854, -0.012572714, 0.012705759, 0.014594993, 0.013676985, 0.014422035, 0.012825499, 0.013331069, -0.019025378, -0.0028704372, -0.016590662, -0.018400067, -0.009047032, 0.007064668, 0.014036206, -0.0076633687, -0.0040345774, -0.010816526, -0.015459782, -0.005554612, -0.0008165612, -0.03328776, 0.023083238, -0.0016015243, 0.00560783, -0.0074238884, -0.008987162, -0.002715773, -0.0036088347, -0.02485273, -0.011428531, 0.04214853, -0.016271355, -0.021579834, -0.005697635, -0.0029020354, -0.0054481765, 0.006858449, 0.035895433, -0.013517331, -0.012346539, -0.013045023, 0.02228497, -0.016470922, 0.00084774353, 0.027753104, -0.0051953914, -0.005088956, -0.015419869, -0.019624079, -0.01604518, -0.008135677, -0.023748461, 0.032143574, 0.016683793, -0.00028209612, 0.0046465825, 0.01697649, 0.015140476, -0.00093630137, -0.011821013, 0.0047829533, 0.019131813, 0.008335244, 0.002835513, 0.044782814, -0.03773145, -0.032116964, 0.005438198, 0.0013595495, 0.048401624, -0.013331069, -0.0030799825, 0.0022733996, -0.024360467, -0.020861393, -0.09313122, -0.016311267, 0.012459626, 0.012632584, 0.027021358, 0.0009313122, -0.014608297, 0.037571795, 0.0030866347, 0.017322406, -0.00038208746, -0.0039248154, -0.025225256, -0.010483914, 0.023442458, 0.0027174358, -0.012539454, -0.040019814, 0.020502172, 0.008840813, -0.0014252403, -0.02929642, 0.0049359547, -0.012732368, 0.015685959, -0.04017947, -0.029189985, 0.019903472, 0.0017678301, -0.0011516673, 0.021859227, -0.02735397, -0.0011807708, -0.009093598, -0.001736232, -0.018918943, -0.021526616, -0.004819541, 0.012113711, -0.026928227, 0.008042546, 0.0024513467, -0.008541463, -0.029988253, 0.01047061, -0.023455763, -0.009552603, -0.008408419, -0.002892057, 0.008980511, -0.010736699, -0.024054464, -0.01786789, -0.023043325, 0.009851952, -0.017921107, -0.00016318752, -0.007783109, -0.010197869, -0.015712567, 0.0035423124, 0.012685803, -0.034032807, 0.013996292, 0.051248778, -0.00032263316, -0.010364174, 0.0112555735, 0.006179922, -0.004170948, 0.004809562, 0.02509221, -0.011375314, 0.0076567167, -0.042441227, -0.0010959549, -0.024573337, 0.019517643, 0.010151302, -0.030227734, 0.015513, -0.02300341, -0.0045268424, 4.854049e-05, 0.016005265, 0.011362009, 0.01476795, -0.017801367, -0.00021183195, -0.017721541, 0.00802259, 0.021393571, 0.007723239, 0.0037485317, -0.0083152875, 0.019318076, 0.0002613079, 0.0021253875, -0.0063129663, -0.004899367, -0.0029253182, 0.006738709, -0.038503107, 0.00450356, -0.0021054307, 0.00014427023, -0.010683482, -0.014395426, 0.010131346, -0.01577909, -0.019357989, 0.036081694, -0.030014861, 0.02034252, -0.016989795, 0.013477418, -0.017349016, -0.019930081, -0.0081822425, -0.0032529405, 0.009971692, 0.021100873, -0.0046233, -0.0036287915, 0.007729891, 0.0027822952, -0.013430852, 0.022923585, -0.013743507, 0.0014743005, -0.013211329, -0.013650375, 0.017575191, -0.015220302, 0.014036206, 0.031478353, -0.012053841, -0.019384598, 0.007470454, -0.0011924122, 0.017255884, -0.01697649, -0.0030300908, -0.03645422, -0.022364797, -0.0396739, -0.009386296, -0.006016942, -0.032356445, -0.000702226, -0.0028222085, 0.010277695, 0.035310037, -0.00011288003, -0.0016264702, -0.0262497, -0.022617582, -0.010949571, -0.0028504806, -0.020888003, 0.008015937, -0.03597526, 0.0078030657, 0.003622139, 0.0073374095, -0.007463802, -0.004310645, -0.007949415, 0.016297963, 0.012253407, -0.0052685663, -0.034644812, -0.014940908, 0.0011741186, -0.0005180424, 0.01873268, 0.005291849, 0.009851952, -0.0035988565, -0.0004739714, -0.019025378, 0.040525384, 0.016723705, -0.0071112337, -0.011202355, -0.005431546, 0.030280951, 0.026928227, -0.010577045, 0.007936111, 0.0010660199, 0.013743507, -0.026835095, 0.014688124, -0.007856283, -0.0119607095, 0.019504339, -0.009951736, 0.031691223, -0.045448035, -0.023282805, 0.016923273, 0.01416925, 0.010510523, -0.021686269, -0.009133512, -0.026063437, -0.0069582327, 0.008195547, -0.062903486, 0.00060368987, 0.026741965, -0.003442529, 0.04254766, 0.015672654, 0.02730075, 0.0024363792, 0.014102727, 0.006406097, -0.0226708, -0.021340353, 0.023495676, -0.022378102, 0.0010468947, 0.009865257, -0.0022750627, 0.05364358, 4.6773494e-05, 0.0044204067, -0.010956223, -0.005867267, 0.012113711, -0.027433796, 0.006515859, -0.030360777, -0.016125005, -0.01933138, -0.011854274, -0.000744634, 0.0023814982, -0.0155928265, 0.059550762, -0.019730514, -0.008222156, -0.00966569, 0.024679773, -0.004709779, 0.019757124, 0.0039181635, -0.0087410305, 0.0036021825, 0.047763012, -0.015952047, 0.012459626, 0.009845301, -0.019198336, 0.006179922, 0.010191216, 0.03621474, -0.003006808, -0.00014894758, 0.020528782, 0.013178067, -0.017628409, 0.0064692935, -0.0054515023, -0.0020139627, 0.0014501861, -0.007317453, 0.022896975, -0.02264419, -0.0071112337, 0.0023914766, -0.029402856, -0.012313277, 0.022364797, -0.00838181, 0.00084067555, -0.00032055433, -0.013889856, -0.012326582, 0.010856439, 0.03842328, -0.028657807, -0.02485273, -0.026715355, -0.015739176, -0.007383975, -0.0034491813, -0.010191216]\n"
     ]
    }
   ],
   "source": [
    "# Define the URL of the API endpoint\n",
    "embedding_url = f\"{aoai_api_base_url}openai/deployments/{aoai_embedding_deployment_name}/embeddings?api-version={aoai_api_version}\"\n",
    "# Define the headers, including the API key\n",
    "embedding_headers = {\n",
    "    'Content-Type': 'application/json',\n",
    "    'api-key': aoai_api_key\n",
    "}\n",
    "\n",
    "# Define the JSON body of the request\n",
    "embedding_body = {\n",
    "    \"input\": \"What is the deductable amount in the health plan?\"\n",
    "}\n",
    "\n",
    "# Convert the payload to a JSON string\n",
    "str_body = json.dumps(embedding_body)\n",
    "\n",
    "# Make the POST request with the headers and JSON body\n",
    "response = requests.post(url=embedding_url, headers=embedding_headers, data=str_body)\n",
    "\n",
    "embedding = None\n",
    "# Check the response\n",
    "if response.status_code == 200:\n",
    "    print('Request successful!')\n",
    "    json_response = response.json()\n",
    "    embedding = json_response[\"data\"][0][\"embedding\"]\n",
    "else:\n",
    "    print('Request failed!')\n",
    "    print(response.text)\n",
    "\n",
    "print(embedding)"
   ]
  },
  {
   "cell_type": "markdown",
   "metadata": {},
   "source": [
    "Calling Azure AI Search Service to do vector search\n",
    "\n",
    "for this sample, we are calling a search index that has vectorized content of \"Breaking Bad - 01 Pilot\" screenplay"
   ]
  },
  {
   "cell_type": "code",
   "execution_count": 26,
   "metadata": {},
   "outputs": [
    {
     "name": "stdout",
     "output_type": "stream",
     "text": [
      "Request successful!\n",
      "{\n",
      "  \"@odata.context\": \"https://jhl-ai-search.search.windows.net/indexes('contoso-northwind')/$metadata#docs(*)\",\n",
      "  \"@odata.count\": 5,\n",
      "  \"value\": [\n",
      "    {\n",
      "      \"@search.score\": 0.8689805,\n",
      "      \"chunk\": \"the office staff that you are a Northwind \\n\\nHealth Plus member. This will ensure that the staff bills your insurance correctly and that \\n\\nyou are charged the correct amount for your copay.  \\n\\nIf you have any questions about your copay amount, you can contact Northwind Health's \\n\\ncustomer service team. They will be able to provide more detailed information about your \\n\\ncoverage and copay amount.  \\n\\nIt is important to remember that the split copay only applies to office visits. Other services, \\n\\nsuch as lab tests, X-rays, and imaging tests, are subject to different copay amounts, which \\n\\nare listed on your insurance card.  \\n\\nIt is also important to remember that the split copay only applies to in-network providers. If \\n\\nyou visit an out-of-network provider, you will be subject to a higher copay amount, which is \\n\\nalso listed on your insurance card.  \\n\\nAt Northwind Health Plus, we are committed to helping our members get the care they need \\n\\nat a price they can afford. With the split copay for office visits, we hope to make healthcare \\n\\nmore affordable for you and your family. \\n\\n\\n\\nCalendar Year Deductible \\n\\nIMPORTANT PLAN INFORMATION: Calendar Year Deductible \\n\\nThe Northwind Health Plus plan has a calendar year deductible that applies to some \\n\\nservices. The amount you must pay out-of-pocket before the plan begins to pay for covered \\n\\nservices is called the calendar year deductible. The calendar year deductible is the same for \\n\\nall members of the plan and is reset each year on the plan's renewal date.  \\n\\nFor In-Network Services: The calendar year deductible for in-network services is $1,500 for \\n\\nindividuals and $3,000 for families. This means that you must pay the full cost of all covered \\n\\nservices until you have paid a total of $1,500 for an individual and $3,000 for a family. Once \\n\\nthis amount is reached, the plan will begin to pay its share of the cost of eligible services.\",\n",
      "      \"title\": \"Northwind_Health_Plus_Benefits_Details.pdf\"\n",
      "    },\n",
      "    {\n",
      "      \"@search.score\": 0.86825615,\n",
      "      \"chunk\": \"year deductible is the same for \\n\\nall members of the plan and is reset each year on the plan's renewal date.  \\n\\nFor In-Network Services: The calendar year deductible for in-network services is $1,500 for \\n\\nindividuals and $3,000 for families. This means that you must pay the full cost of all covered \\n\\nservices until you have paid a total of $1,500 for an individual and $3,000 for a family. Once \\n\\nthis amount is reached, the plan will begin to pay its share of the cost of eligible services.  \\n\\nFor Out-of-Network Services: The plan does not have a calendar year deductible for out-of-\\n\\nnetwork services. However, out-of-network services are subject to higher cost sharing than \\n\\nin-network services, so be sure to check with your provider to find out the cost sharing that \\n\\napplies.  \\n\\nExceptions: Certain services are exempt from the calendar year deductible. These services \\n\\ninclude preventive care services and emergency services.  \\n\\nTips:  \\n\\n\\u2022 Be sure to check with your provider to find out if a service is subject to the calendar \\n\\nyear deductible before receiving the service.  \\n\\n\\u2022 Make sure you understand the cost sharing that applies to out-of-network services.  \\n\\n\\u2022 Be aware that the calendar year deductible is reset each year on the plan\\u2019s renewal \\n\\ndate.  \\n\\n\\u2022 Remember that preventive care services and emergency services are exempt from \\n\\nthe calendar year deductible. \\n\\nCoinsurance \\n\\nIMPORTANT PLAN INFORMATION: Coinsurance  \\n\\nCoinsurance is a cost-sharing requirement under Northwind Health Plus. This means that \\n\\nafter you have met your deductible, you will be responsible for a certain percentage of the \\n\\ncosts for covered services. The coinsurance rate is usually a percentage of the allowed \\n\\namount for a service, and it is your responsibility to pay this amount.  \\n\\nFor example, if the allowed amount for a service is $100 and your coinsurance is 20%, you \\n\\nare responsible for paying $20 (20% of $100). The insurance company will pay the\",\n",
      "      \"title\": \"Northwind_Health_Plus_Benefits_Details.pdf\"\n",
      "    },\n",
      "    {\n",
      "      \"@search.score\": 0.86540806,\n",
      "      \"chunk\": \"should compare the \\n\\nout-of-pocket maximums and deductibles of different plans before deciding which one is \\n\\nbest for them. \\n\\nIn summary, the Northwind Standard plan offers employees an out-of-pocket maximum of \\n\\n$6,350 for an individual and $12,700 for a family. Employees should be aware that certain \\n\\nservices are not subject to this maximum and that their out-of-pocket expenses will reset at \\n\\nthe start of the calendar year. They should also remember that the out-of-pocket maximum \\n\\ndoes not include the cost of premiums. Finally, they should compare the out-of-pocket \\n\\nmaximums and deductibles of different plans before deciding which one is best for them. \\n\\nAllowed Amount \\n\\nIMPORTANT PLAN INFORMATION: ALLOWED AMOUNT \\n\\nIn the Northwind Standard plan, an Allowed Amount is the maximum amount that the plan \\n\\nwill pay for a covered service. It includes both the amount that the plan pays and any \\n\\namount that the insured is responsible for paying. This total Allowed Amount is usually a \\n\\npercentage of the provider's charge. In some cases, the Allowed Amount may be a fixed \\n\\namount. \\n\\nIn general, the Allowed Amount is the lesser of the provider's charge, the plan's Allowed \\n\\nAmount, and the copayment amount. This means that the insured may be responsible for \\n\\npaying the difference between the provider's charge and the Allowed Amount. \\n\\n\\n\\nIt is important to remember that the Allowed Amount may not cover the entire cost of a \\n\\nservice. Therefore, the insured may be responsible for paying any remaining balance, even if \\n\\nit is more than the Allowed Amount. \\n\\nExceptions:  \\n\\nIn some cases, a service may not have an Allowed Amount or the Allowed Amount may be \\n\\nhigher than the provider's charge. This may occur when the service is considered to be a \\n\\nnon-covered service or when the service is not a usual or customary service. In these cases, \\n\\nthe insured will be responsible for paying the entire cost of the service.\",\n",
      "      \"title\": \"Northwind_Standard_Benefits_Details.pdf\"\n",
      "    },\n",
      "    {\n",
      "      \"@search.score\": 0.86233443,\n",
      "      \"chunk\": \"Standard plan is $6,350 for an individual and $12,700 for a \\n\\nfamily. \\n\\n\\n\\nEmployees should be aware that certain services may not be subject to the out-of-pocket \\n\\nmaximum. These services include any charges that are not related to the diagnosis and \\n\\ntreatment of an illness or injury. For example, non-covered services like cosmetic surgery, \\n\\nnon-prescription drugs, or services that were provided outside of the Northwind Health \\n\\nnetwork will not count toward the out-of-pocket maximum. \\n\\nIt's important for employees to remember that the out-of-pocket maximum will reset at the \\n\\nstart of the calendar year. This means that any out-of-pocket expenses paid during the \\n\\nprevious year will not carry over to the new year. \\n\\nTo keep track of their out-of-pocket expenses, employees should review their insurance \\n\\nstatements regularly. They should also review their Explanation of Benefits (EOB) \\n\\ndocuments to make sure that all of their expenses have been properly accounted for. This \\n\\ncan help them to stay on top of their out-of-pocket expenses and avoid exceeding the \\n\\nmaximum. \\n\\nEmployees should also be aware that the out-of-pocket maximum does not include the cost \\n\\nof premiums. The cost of premiums is not counted toward the out-of-pocket maximum and \\n\\nis in addition to any out-of-pocket expenses that employees incur. \\n\\nFinally, if employees are thinking of switching to a different health plan, they should be \\n\\naware that out-of-pocket costs can vary from plan to plan. Employees should compare the \\n\\nout-of-pocket maximums and deductibles of different plans before deciding which one is \\n\\nbest for them. \\n\\nIn summary, the Northwind Standard plan offers employees an out-of-pocket maximum of \\n\\n$6,350 for an individual and $12,700 for a family. Employees should be aware that certain \\n\\nservices are not subject to this maximum and that their out-of-pocket expenses will reset at \\n\\nthe start of the calendar year. They should also remember that the out-of-pocket maximum\",\n",
      "      \"title\": \"Northwind_Standard_Benefits_Details.pdf\"\n",
      "    },\n",
      "    {\n",
      "      \"@search.score\": 0.86025923,\n",
      "      \"chunk\": \"requirement under Northwind Health Plus. This means that \\n\\nafter you have met your deductible, you will be responsible for a certain percentage of the \\n\\ncosts for covered services. The coinsurance rate is usually a percentage of the allowed \\n\\namount for a service, and it is your responsibility to pay this amount.  \\n\\nFor example, if the allowed amount for a service is $100 and your coinsurance is 20%, you \\n\\nare responsible for paying $20 (20% of $100). The insurance company will pay the \\n\\nremaining amount of $80.  \\n\\n\\n\\nCoinsurance may apply to all services, including hospitalization, emergency room visits, \\n\\npreventive care, and some mental health and substance abuse services. However, \\n\\ncoinsurance does not apply to some services, such as preventive care services.  \\n\\nIt is important to understand the amount of coinsurance you are responsible for. Depending \\n\\non the type of service, your coinsurance could be a percentage of the allowed amount or a \\n\\nfixed amount. This information should be provided to you in your plan documents.  \\n\\nWhen you receive care, you will receive a bill that outlines the cost of the service and the \\n\\namount you are responsible for paying. If you have met all of your deductibles and \\n\\ncoinsurance requirements, the plan will pay the remaining costs.  \\n\\nTips for Using Your Coinsurance:  \\n\\n1. Review your plan documents to understand the coinsurance rates for all services you \\n\\nmay need. This will help you budget for any services you may need in the future and be \\n\\nbetter prepared for the cost.  \\n\\n2. Consider using in-network providers when possible. Many plans offer lower coinsurance \\n\\nrates for in-network providers, meaning you will pay less for the same service.  \\n\\n3. Ask your provider for an estimate of the cost of a service before you receive it. This will \\n\\nhelp you determine how much of the cost you will be responsible for.  \\n\\n4. Keep track of the services you receive and the amount you pay. This will help you\",\n",
      "      \"title\": \"Northwind_Health_Plus_Benefits_Details.pdf\"\n",
      "    }\n",
      "  ]\n",
      "}\n"
     ]
    }
   ],
   "source": [
    "# Variables\n",
    "search_index_name = \"contoso-northwind\"\n",
    "search_index_vector_field = \"vector\"\n",
    "\n",
    "# The URL for the request\n",
    "search_url = f\"{search_api_endpoint}/indexes/{search_index_name}/docs/search?api-version={search_api_version}\"\n",
    "\n",
    "# The headers for the request\n",
    "search_headers = {\n",
    "    \"Content-Type\": \"application/json\",\n",
    "    \"api-key\": search_api_key\n",
    "}\n",
    "\n",
    "# The body of the request\n",
    "search_body = {\n",
    "    \"count\": True,\n",
    "    \"select\": \"title, chunk\", # other fields to return may go here\n",
    "    \"vectorQueries\": [\n",
    "        {\n",
    "            \"kind\": \"vector\",\n",
    "            \"vector\": embedding,\n",
    "            \"exhaustive\": True,\n",
    "            \"fields\":search_index_vector_field,\n",
    "            \"k\": 5\n",
    "        }\n",
    "    ]\n",
    "}\n",
    "\n",
    "# Make the POST request\n",
    "response = requests.post(url=search_url, headers=search_headers, data=json.dumps(search_body))\n",
    "\n",
    "# Check the response\n",
    "if response.status_code == 200:\n",
    "    print('Request successful!')\n",
    "    json_response = response.json()\n",
    "    json_str = json.dumps(json_response, indent=2)\n",
    "    # Print the response\n",
    "    print(json_str)\n",
    "else:\n",
    "    print('Request failed!')\n",
    "    print(response.text)\n"
   ]
  },
  {
   "cell_type": "code",
   "execution_count": 28,
   "metadata": {},
   "outputs": [
    {
     "name": "stdout",
     "output_type": "stream",
     "text": [
      "Request successful!\n",
      "{\n",
      "  \"@odata.context\": \"https://jhl-ai-search.search.windows.net/indexes('contoso-northwind')/$metadata#docs(*)\",\n",
      "  \"@odata.count\": 5,\n",
      "  \"value\": [\n",
      "    {\n",
      "      \"@search.score\": 0.8689805,\n",
      "      \"chunk\": \"the office staff that you are a Northwind \\n\\nHealth Plus member. This will ensure that the staff bills your insurance correctly and that \\n\\nyou are charged the correct amount for your copay.  \\n\\nIf you have any questions about your copay amount, you can contact Northwind Health's \\n\\ncustomer service team. They will be able to provide more detailed information about your \\n\\ncoverage and copay amount.  \\n\\nIt is important to remember that the split copay only applies to office visits. Other services, \\n\\nsuch as lab tests, X-rays, and imaging tests, are subject to different copay amounts, which \\n\\nare listed on your insurance card.  \\n\\nIt is also important to remember that the split copay only applies to in-network providers. If \\n\\nyou visit an out-of-network provider, you will be subject to a higher copay amount, which is \\n\\nalso listed on your insurance card.  \\n\\nAt Northwind Health Plus, we are committed to helping our members get the care they need \\n\\nat a price they can afford. With the split copay for office visits, we hope to make healthcare \\n\\nmore affordable for you and your family. \\n\\n\\n\\nCalendar Year Deductible \\n\\nIMPORTANT PLAN INFORMATION: Calendar Year Deductible \\n\\nThe Northwind Health Plus plan has a calendar year deductible that applies to some \\n\\nservices. The amount you must pay out-of-pocket before the plan begins to pay for covered \\n\\nservices is called the calendar year deductible. The calendar year deductible is the same for \\n\\nall members of the plan and is reset each year on the plan's renewal date.  \\n\\nFor In-Network Services: The calendar year deductible for in-network services is $1,500 for \\n\\nindividuals and $3,000 for families. This means that you must pay the full cost of all covered \\n\\nservices until you have paid a total of $1,500 for an individual and $3,000 for a family. Once \\n\\nthis amount is reached, the plan will begin to pay its share of the cost of eligible services.\",\n",
      "      \"title\": \"Northwind_Health_Plus_Benefits_Details.pdf\"\n",
      "    },\n",
      "    {\n",
      "      \"@search.score\": 0.86825615,\n",
      "      \"chunk\": \"year deductible is the same for \\n\\nall members of the plan and is reset each year on the plan's renewal date.  \\n\\nFor In-Network Services: The calendar year deductible for in-network services is $1,500 for \\n\\nindividuals and $3,000 for families. This means that you must pay the full cost of all covered \\n\\nservices until you have paid a total of $1,500 for an individual and $3,000 for a family. Once \\n\\nthis amount is reached, the plan will begin to pay its share of the cost of eligible services.  \\n\\nFor Out-of-Network Services: The plan does not have a calendar year deductible for out-of-\\n\\nnetwork services. However, out-of-network services are subject to higher cost sharing than \\n\\nin-network services, so be sure to check with your provider to find out the cost sharing that \\n\\napplies.  \\n\\nExceptions: Certain services are exempt from the calendar year deductible. These services \\n\\ninclude preventive care services and emergency services.  \\n\\nTips:  \\n\\n\\u2022 Be sure to check with your provider to find out if a service is subject to the calendar \\n\\nyear deductible before receiving the service.  \\n\\n\\u2022 Make sure you understand the cost sharing that applies to out-of-network services.  \\n\\n\\u2022 Be aware that the calendar year deductible is reset each year on the plan\\u2019s renewal \\n\\ndate.  \\n\\n\\u2022 Remember that preventive care services and emergency services are exempt from \\n\\nthe calendar year deductible. \\n\\nCoinsurance \\n\\nIMPORTANT PLAN INFORMATION: Coinsurance  \\n\\nCoinsurance is a cost-sharing requirement under Northwind Health Plus. This means that \\n\\nafter you have met your deductible, you will be responsible for a certain percentage of the \\n\\ncosts for covered services. The coinsurance rate is usually a percentage of the allowed \\n\\namount for a service, and it is your responsibility to pay this amount.  \\n\\nFor example, if the allowed amount for a service is $100 and your coinsurance is 20%, you \\n\\nare responsible for paying $20 (20% of $100). The insurance company will pay the\",\n",
      "      \"title\": \"Northwind_Health_Plus_Benefits_Details.pdf\"\n",
      "    },\n",
      "    {\n",
      "      \"@search.score\": 0.86540806,\n",
      "      \"chunk\": \"should compare the \\n\\nout-of-pocket maximums and deductibles of different plans before deciding which one is \\n\\nbest for them. \\n\\nIn summary, the Northwind Standard plan offers employees an out-of-pocket maximum of \\n\\n$6,350 for an individual and $12,700 for a family. Employees should be aware that certain \\n\\nservices are not subject to this maximum and that their out-of-pocket expenses will reset at \\n\\nthe start of the calendar year. They should also remember that the out-of-pocket maximum \\n\\ndoes not include the cost of premiums. Finally, they should compare the out-of-pocket \\n\\nmaximums and deductibles of different plans before deciding which one is best for them. \\n\\nAllowed Amount \\n\\nIMPORTANT PLAN INFORMATION: ALLOWED AMOUNT \\n\\nIn the Northwind Standard plan, an Allowed Amount is the maximum amount that the plan \\n\\nwill pay for a covered service. It includes both the amount that the plan pays and any \\n\\namount that the insured is responsible for paying. This total Allowed Amount is usually a \\n\\npercentage of the provider's charge. In some cases, the Allowed Amount may be a fixed \\n\\namount. \\n\\nIn general, the Allowed Amount is the lesser of the provider's charge, the plan's Allowed \\n\\nAmount, and the copayment amount. This means that the insured may be responsible for \\n\\npaying the difference between the provider's charge and the Allowed Amount. \\n\\n\\n\\nIt is important to remember that the Allowed Amount may not cover the entire cost of a \\n\\nservice. Therefore, the insured may be responsible for paying any remaining balance, even if \\n\\nit is more than the Allowed Amount. \\n\\nExceptions:  \\n\\nIn some cases, a service may not have an Allowed Amount or the Allowed Amount may be \\n\\nhigher than the provider's charge. This may occur when the service is considered to be a \\n\\nnon-covered service or when the service is not a usual or customary service. In these cases, \\n\\nthe insured will be responsible for paying the entire cost of the service.\",\n",
      "      \"title\": \"Northwind_Standard_Benefits_Details.pdf\"\n",
      "    },\n",
      "    {\n",
      "      \"@search.score\": 0.86233443,\n",
      "      \"chunk\": \"Standard plan is $6,350 for an individual and $12,700 for a \\n\\nfamily. \\n\\n\\n\\nEmployees should be aware that certain services may not be subject to the out-of-pocket \\n\\nmaximum. These services include any charges that are not related to the diagnosis and \\n\\ntreatment of an illness or injury. For example, non-covered services like cosmetic surgery, \\n\\nnon-prescription drugs, or services that were provided outside of the Northwind Health \\n\\nnetwork will not count toward the out-of-pocket maximum. \\n\\nIt's important for employees to remember that the out-of-pocket maximum will reset at the \\n\\nstart of the calendar year. This means that any out-of-pocket expenses paid during the \\n\\nprevious year will not carry over to the new year. \\n\\nTo keep track of their out-of-pocket expenses, employees should review their insurance \\n\\nstatements regularly. They should also review their Explanation of Benefits (EOB) \\n\\ndocuments to make sure that all of their expenses have been properly accounted for. This \\n\\ncan help them to stay on top of their out-of-pocket expenses and avoid exceeding the \\n\\nmaximum. \\n\\nEmployees should also be aware that the out-of-pocket maximum does not include the cost \\n\\nof premiums. The cost of premiums is not counted toward the out-of-pocket maximum and \\n\\nis in addition to any out-of-pocket expenses that employees incur. \\n\\nFinally, if employees are thinking of switching to a different health plan, they should be \\n\\naware that out-of-pocket costs can vary from plan to plan. Employees should compare the \\n\\nout-of-pocket maximums and deductibles of different plans before deciding which one is \\n\\nbest for them. \\n\\nIn summary, the Northwind Standard plan offers employees an out-of-pocket maximum of \\n\\n$6,350 for an individual and $12,700 for a family. Employees should be aware that certain \\n\\nservices are not subject to this maximum and that their out-of-pocket expenses will reset at \\n\\nthe start of the calendar year. They should also remember that the out-of-pocket maximum\",\n",
      "      \"title\": \"Northwind_Standard_Benefits_Details.pdf\"\n",
      "    },\n",
      "    {\n",
      "      \"@search.score\": 0.86025923,\n",
      "      \"chunk\": \"requirement under Northwind Health Plus. This means that \\n\\nafter you have met your deductible, you will be responsible for a certain percentage of the \\n\\ncosts for covered services. The coinsurance rate is usually a percentage of the allowed \\n\\namount for a service, and it is your responsibility to pay this amount.  \\n\\nFor example, if the allowed amount for a service is $100 and your coinsurance is 20%, you \\n\\nare responsible for paying $20 (20% of $100). The insurance company will pay the \\n\\nremaining amount of $80.  \\n\\n\\n\\nCoinsurance may apply to all services, including hospitalization, emergency room visits, \\n\\npreventive care, and some mental health and substance abuse services. However, \\n\\ncoinsurance does not apply to some services, such as preventive care services.  \\n\\nIt is important to understand the amount of coinsurance you are responsible for. Depending \\n\\non the type of service, your coinsurance could be a percentage of the allowed amount or a \\n\\nfixed amount. This information should be provided to you in your plan documents.  \\n\\nWhen you receive care, you will receive a bill that outlines the cost of the service and the \\n\\namount you are responsible for paying. If you have met all of your deductibles and \\n\\ncoinsurance requirements, the plan will pay the remaining costs.  \\n\\nTips for Using Your Coinsurance:  \\n\\n1. Review your plan documents to understand the coinsurance rates for all services you \\n\\nmay need. This will help you budget for any services you may need in the future and be \\n\\nbetter prepared for the cost.  \\n\\n2. Consider using in-network providers when possible. Many plans offer lower coinsurance \\n\\nrates for in-network providers, meaning you will pay less for the same service.  \\n\\n3. Ask your provider for an estimate of the cost of a service before you receive it. This will \\n\\nhelp you determine how much of the cost you will be responsible for.  \\n\\n4. Keep track of the services you receive and the amount you pay. This will help you\",\n",
      "      \"title\": \"Northwind_Health_Plus_Benefits_Details.pdf\"\n",
      "    }\n",
      "  ]\n",
      "}\n"
     ]
    },
    {
     "ename": "",
     "evalue": "",
     "output_type": "error",
     "traceback": [
      "\u001b[1;31mThe Kernel crashed while executing code in the current cell or a previous cell. \n",
      "\u001b[1;31mPlease review the code in the cell(s) to identify a possible cause of the failure. \n",
      "\u001b[1;31mClick <a href='https://aka.ms/vscodeJupyterKernelCrash'>here</a> for more info. \n",
      "\u001b[1;31mView Jupyter <a href='command:jupyter.viewOutput'>log</a> for further details."
     ]
    }
   ],
   "source": [
    "# Variables\n",
    "search_index_vector_profile = \"contoso-northwind\"\n",
    "search_index_vector_field = \"vector\"\n",
    "\n",
    "# The URL for the request\n",
    "search_url = f\"{search_api_endpoint}/indexes/{search_index_name}/docs/search?api-version={search_api_version}\"\n",
    "\n",
    "# The headers for the request\n",
    "search_headers = {\n",
    "    \"Content-Type\": \"application/json\",\n",
    "    \"api-key\": search_api_key\n",
    "}\n",
    "\n",
    "# The body of the request\n",
    "search_body = {\n",
    "    \"count\": True,\n",
    "    \"select\": \"title, chunk\", # other fields to return may go here\n",
    "    \"vectorQueries\": [\n",
    "        {\n",
    "            \"kind\": \"text\",\n",
    "            \"text\": \"What is the deductable amount in the health plan?\",\n",
    "            \"exhaustive\": True,\n",
    "            \"fields\": search_index_vector_field,\n",
    "            \"k\": 5\n",
    "        }\n",
    "    ]\n",
    "}\n",
    "\n",
    "# Make the POST request\n",
    "response = requests.post(url=search_url, headers=search_headers, data=json.dumps(search_body))\n",
    "\n",
    "# Check the response\n",
    "if response.status_code == 200:\n",
    "    print('Request successful!')\n",
    "    json_response = response.json()\n",
    "    json_str = json.dumps(json_response, indent=2)\n",
    "    # Print the response\n",
    "    print(json_str)\n",
    "else:\n",
    "    print('Request failed!')\n",
    "    print(response.text)\n"
   ]
  }
 ],
 "metadata": {
  "kernelspec": {
   "display_name": "Python 3",
   "language": "python",
   "name": "python3"
  },
  "language_info": {
   "codemirror_mode": {
    "name": "ipython",
    "version": 3
   },
   "file_extension": ".py",
   "mimetype": "text/x-python",
   "name": "python",
   "nbconvert_exporter": "python",
   "pygments_lexer": "ipython3",
   "version": "3.11.9"
  }
 },
 "nbformat": 4,
 "nbformat_minor": 2
}
